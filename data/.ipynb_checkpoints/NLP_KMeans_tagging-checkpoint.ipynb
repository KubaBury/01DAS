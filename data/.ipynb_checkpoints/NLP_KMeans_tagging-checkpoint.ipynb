{
 "cells": [
  {
   "cell_type": "code",
   "execution_count": 128,
   "id": "26ca11b2",
   "metadata": {},
   "outputs": [],
   "source": [
    "import pandas as pd\n",
    "import numpy as np\n",
    "from vectorized_lemmatized_articles import vectorized_lemmatized_articles\n",
    "from deduplicate import deduplicate\n",
    "from sklearn.feature_extraction.text import TfidfVectorizer\n",
    "import matplotlib.pyplot as plt"
   ]
  },
  {
   "cell_type": "code",
   "execution_count": 129,
   "id": "60652843",
   "metadata": {},
   "outputs": [],
   "source": [
    "df=pd.ExcelFile('C:/Users/vacla/OneDrive/Dokumenty/Github/01DASteam/data/article_archive_cleared.xls')\n",
    "articles=df.parse('article_archive')"
   ]
  },
  {
   "cell_type": "code",
   "execution_count": 130,
   "id": "539618a9",
   "metadata": {},
   "outputs": [],
   "source": [
    "#a=np.concatenate([np.linspace(0, 29,30),np.linspace(300,319,20),np.linspace(440,449,10),np.linspace(60, 89,30)])\n",
    "a=np.linspace(0,500,501)\n",
    "articles=articles.loc[a,['title','summary']]"
   ]
  },
  {
   "cell_type": "code",
   "execution_count": 132,
   "id": "8386cb7d",
   "metadata": {},
   "outputs": [],
   "source": [
    "vla=vectorized_lemmatized_articles(articles,0,articles.shape[0])\n",
    "vlaa=vla.run()\n",
    "ded=deduplicate(vlaa)\n",
    "b=ded.run()"
   ]
  },
  {
   "cell_type": "code",
   "execution_count": 133,
   "id": "a7977a50",
   "metadata": {},
   "outputs": [],
   "source": [
    "arts=articles.drop(articles.index[b])"
   ]
  },
  {
   "cell_type": "code",
   "execution_count": 134,
   "id": "b023ab2c",
   "metadata": {},
   "outputs": [
    {
     "data": {
      "text/plain": [
       "(358, 2)"
      ]
     },
     "execution_count": 134,
     "metadata": {},
     "output_type": "execute_result"
    }
   ],
   "source": [
    "arts.shape"
   ]
  },
  {
   "cell_type": "code",
   "execution_count": 135,
   "id": "107f9a04",
   "metadata": {},
   "outputs": [],
   "source": [
    "vla2=vectorized_lemmatized_articles(arts,0,arts.shape[0])\n",
    "vecs=vla2.run()\n",
    "vectorizer = TfidfVectorizer(ngram_range=(1,1),max_features=150)\n",
    "vectorizer.fit(vecs)\n",
    "tfidf_vecs = vectorizer.transform(vecs)"
   ]
  },
  {
   "cell_type": "code",
   "execution_count": 136,
   "id": "cb86bf91",
   "metadata": {},
   "outputs": [
    {
     "data": {
      "text/plain": [
       "(358, 150)"
      ]
     },
     "execution_count": 136,
     "metadata": {},
     "output_type": "execute_result"
    }
   ],
   "source": [
    "tfidf_vecs.shape"
   ]
  },
  {
   "cell_type": "code",
   "execution_count": 141,
   "id": "de7f7879",
   "metadata": {},
   "outputs": [],
   "source": [
    "from sklearn.cluster import KMeans\n",
    "X=tfidf_vecs\n",
    "kmeans = KMeans(n_clusters=20, random_state=42).fit(X)\n",
    "#kmeans.labels_\n",
    "\n",
    "#kmeans.predict([[0, 0], [12, 3]])\n",
    "\n",
    "#kmeans.cluster_centers_"
   ]
  },
  {
   "cell_type": "code",
   "execution_count": 142,
   "id": "02d9b399",
   "metadata": {},
   "outputs": [],
   "source": [
    "centroids=kmeans.cluster_centers_"
   ]
  },
  {
   "cell_type": "code",
   "execution_count": 143,
   "id": "767ecf07",
   "metadata": {},
   "outputs": [
    {
     "name": "stderr",
     "output_type": "stream",
     "text": [
      "c:\\users\\vacla\\onedrive\\dokumenty\\github\\01das\\spydertest\\lib\\site-packages\\sklearn\\utils\\deprecation.py:87: FutureWarning: Function get_feature_names is deprecated; get_feature_names is deprecated in 1.0 and will be removed in 1.2. Please use get_feature_names_out instead.\n",
      "  warnings.warn(msg, category=FutureWarning)\n"
     ]
    }
   ],
   "source": [
    "listt=[]\n",
    "aa=vectorizer.get_feature_names()\n",
    "for i in range(len(centroids)):\n",
    "    listtt=[]\n",
    "    bb=list(np.where(centroids[i]==np.max(centroids[i])))\n",
    "    listt.append(aa[int(bb[0][0])])"
   ]
  },
  {
   "cell_type": "code",
   "execution_count": 144,
   "id": "10026e28",
   "metadata": {
    "scrolled": true
   },
   "outputs": [
    {
     "data": {
      "text/plain": [
       "['česko',\n",
       " 'agentura',\n",
       " 'hlavní',\n",
       " 'totiž',\n",
       " 'seriál',\n",
       " '1000000',\n",
       " '19',\n",
       " 'říci',\n",
       " 'model',\n",
       " 'pomáhat',\n",
       " 'květen',\n",
       " 'mistrovství',\n",
       " 'druhý',\n",
       " 'doba',\n",
       " 'sociální',\n",
       " 'celý',\n",
       " 'pátek',\n",
       " '1000000000',\n",
       " 'velmi',\n",
       " 'moci']"
      ]
     },
     "execution_count": 144,
     "metadata": {},
     "output_type": "execute_result"
    }
   ],
   "source": [
    "listt"
   ]
  },
  {
   "cell_type": "code",
   "execution_count": 145,
   "id": "d89c8d2a",
   "metadata": {},
   "outputs": [],
   "source": [
    "arts2=arts.copy()\n",
    "tags=[]\n",
    "for i in range(len(kmeans.labels_)):\n",
    "    tags.append(listt[kmeans.labels_[i]])"
   ]
  },
  {
   "cell_type": "code",
   "execution_count": 146,
   "id": "fb6e2ed2",
   "metadata": {},
   "outputs": [],
   "source": [
    "arts2['tags']=tags"
   ]
  },
  {
   "cell_type": "code",
   "execution_count": 147,
   "id": "d817d981",
   "metadata": {},
   "outputs": [
    {
     "data": {
      "text/html": [
       "<div>\n",
       "<style scoped>\n",
       "    .dataframe tbody tr th:only-of-type {\n",
       "        vertical-align: middle;\n",
       "    }\n",
       "\n",
       "    .dataframe tbody tr th {\n",
       "        vertical-align: top;\n",
       "    }\n",
       "\n",
       "    .dataframe thead th {\n",
       "        text-align: right;\n",
       "    }\n",
       "</style>\n",
       "<table border=\"1\" class=\"dataframe\">\n",
       "  <thead>\n",
       "    <tr style=\"text-align: right;\">\n",
       "      <th></th>\n",
       "      <th>title</th>\n",
       "      <th>summary</th>\n",
       "      <th>tags</th>\n",
       "    </tr>\n",
       "  </thead>\n",
       "  <tbody>\n",
       "    <tr>\n",
       "      <th>0.0</th>\n",
       "      <td>Pokud chceme pandemii udržet pod kontrolou, je...</td>\n",
       "      <td>Příznivý vývoj epidemie koronaviru v Česku lze...</td>\n",
       "      <td>česko</td>\n",
       "    </tr>\n",
       "    <tr>\n",
       "      <th>1.0</th>\n",
       "      <td>Hlavní manažer ANO pobíral neoprávněně plný za...</td>\n",
       "      <td>Hlavní manažer hnutí ANO Jan Richter loni pobí...</td>\n",
       "      <td>sociální</td>\n",
       "    </tr>\n",
       "    <tr>\n",
       "      <th>2.0</th>\n",
       "      <td>Vzpomeňme si, co udělaly bary loni v létě, mla...</td>\n",
       "      <td>Po zmírnění protiepidemických opatření, ke kte...</td>\n",
       "      <td>česko</td>\n",
       "    </tr>\n",
       "    <tr>\n",
       "      <th>3.0</th>\n",
       "      <td>Poslední „Berdychovec“ je za mřížemi. Policie ...</td>\n",
       "      <td>Čeští kriminalisté přivezli z USA Jaromíra Pro...</td>\n",
       "      <td>sociální</td>\n",
       "    </tr>\n",
       "    <tr>\n",
       "      <th>4.0</th>\n",
       "      <td>Mezi Českem a sedmi zeměmi bude po první dávce...</td>\n",
       "      <td>Ze Slovenska, Polska, Německa, Rakouska, Maďar...</td>\n",
       "      <td>česko</td>\n",
       "    </tr>\n",
       "    <tr>\n",
       "      <th>...</th>\n",
       "      <td>...</td>\n",
       "      <td>...</td>\n",
       "      <td>...</td>\n",
       "    </tr>\n",
       "    <tr>\n",
       "      <th>489.0</th>\n",
       "      <td>Vědec versus jeho doba: Jak se Andrej Dmitrije...</td>\n",
       "      <td>Když o někom řekneme, že byl rozpornou histori...</td>\n",
       "      <td>doba</td>\n",
       "    </tr>\n",
       "    <tr>\n",
       "      <th>490.0</th>\n",
       "      <td>Očkování prvními dávkami se brzy citelně zpoma...</td>\n",
       "      <td>Epidemie je v Česku na ústupu, normálnější živ...</td>\n",
       "      <td>česko</td>\n",
       "    </tr>\n",
       "    <tr>\n",
       "      <th>492.0</th>\n",
       "      <td>Na první pohled teď postupujeme proti epidemii...</td>\n",
       "      <td>Situace s covidem je v Česku den za dnem lepší...</td>\n",
       "      <td>česko</td>\n",
       "    </tr>\n",
       "    <tr>\n",
       "      <th>493.0</th>\n",
       "      <td>Studio N: Vědci čelí nové společenské zodpověd...</td>\n",
       "      <td>Mění očkování lidskou DNA? Způsobují vakcíny n...</td>\n",
       "      <td>česko</td>\n",
       "    </tr>\n",
       "    <tr>\n",
       "      <th>500.0</th>\n",
       "      <td>Inspekce na Bečvě podle Brabce nechybila. Chyb...</td>\n",
       "      <td>Stále neznámý viník úniku jedu do Bečvy vyvolá...</td>\n",
       "      <td>pomáhat</td>\n",
       "    </tr>\n",
       "  </tbody>\n",
       "</table>\n",
       "<p>358 rows × 3 columns</p>\n",
       "</div>"
      ],
      "text/plain": [
       "                                                   title  \\\n",
       "0.0    Pokud chceme pandemii udržet pod kontrolou, je...   \n",
       "1.0    Hlavní manažer ANO pobíral neoprávněně plný za...   \n",
       "2.0    Vzpomeňme si, co udělaly bary loni v létě, mla...   \n",
       "3.0    Poslední „Berdychovec“ je za mřížemi. Policie ...   \n",
       "4.0    Mezi Českem a sedmi zeměmi bude po první dávce...   \n",
       "...                                                  ...   \n",
       "489.0  Vědec versus jeho doba: Jak se Andrej Dmitrije...   \n",
       "490.0  Očkování prvními dávkami se brzy citelně zpoma...   \n",
       "492.0  Na první pohled teď postupujeme proti epidemii...   \n",
       "493.0  Studio N: Vědci čelí nové společenské zodpověd...   \n",
       "500.0  Inspekce na Bečvě podle Brabce nechybila. Chyb...   \n",
       "\n",
       "                                                 summary      tags  \n",
       "0.0    Příznivý vývoj epidemie koronaviru v Česku lze...     česko  \n",
       "1.0    Hlavní manažer hnutí ANO Jan Richter loni pobí...  sociální  \n",
       "2.0    Po zmírnění protiepidemických opatření, ke kte...     česko  \n",
       "3.0    Čeští kriminalisté přivezli z USA Jaromíra Pro...  sociální  \n",
       "4.0    Ze Slovenska, Polska, Německa, Rakouska, Maďar...     česko  \n",
       "...                                                  ...       ...  \n",
       "489.0  Když o někom řekneme, že byl rozpornou histori...      doba  \n",
       "490.0  Epidemie je v Česku na ústupu, normálnější živ...     česko  \n",
       "492.0  Situace s covidem je v Česku den za dnem lepší...     česko  \n",
       "493.0  Mění očkování lidskou DNA? Způsobují vakcíny n...     česko  \n",
       "500.0  Stále neznámý viník úniku jedu do Bečvy vyvolá...   pomáhat  \n",
       "\n",
       "[358 rows x 3 columns]"
      ]
     },
     "execution_count": 147,
     "metadata": {},
     "output_type": "execute_result"
    }
   ],
   "source": [
    "arts2"
   ]
  },
  {
   "cell_type": "code",
   "execution_count": null,
   "id": "30072d31",
   "metadata": {},
   "outputs": [],
   "source": []
  }
 ],
 "metadata": {
  "kernelspec": {
   "display_name": "Python 3 (ipykernel)",
   "language": "python",
   "name": "python3"
  },
  "language_info": {
   "codemirror_mode": {
    "name": "ipython",
    "version": 3
   },
   "file_extension": ".py",
   "mimetype": "text/x-python",
   "name": "python",
   "nbconvert_exporter": "python",
   "pygments_lexer": "ipython3",
   "version": "3.9.0"
  }
 },
 "nbformat": 4,
 "nbformat_minor": 5
}
