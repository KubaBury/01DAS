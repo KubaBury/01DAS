{
 "cells": [
  {
   "cell_type": "code",
   "execution_count": 1,
   "metadata": {},
   "outputs": [],
   "source": [
    "import pandas as pd\n",
    "import numpy as np"
   ]
  },
  {
   "cell_type": "markdown",
   "metadata": {},
   "source": [
    "## tokenizer and deleting punctuation"
   ]
  },
  {
   "cell_type": "code",
   "execution_count": 2,
   "metadata": {},
   "outputs": [],
   "source": [
    "from corpy.morphodita import Tokenizer\n",
    "tokenizer = Tokenizer(\"czech\")\n",
    "punc='[]{}()\"„“!@#$%^=_&*-:/,.\\''\n",
    "def tokeny(clanek):\n",
    "    cont=[]\n",
    "    for word in tokenizer.tokenize(clanek):\n",
    "        cont.append(word)\n",
    "    nopunc = [char for char in cont if char not in punc]\n",
    "    return nopunc"
   ]
  },
  {
   "cell_type": "markdown",
   "metadata": {},
   "source": [
    "## lemmatizer"
   ]
  },
  {
   "cell_type": "code",
   "execution_count": 3,
   "metadata": {},
   "outputs": [],
   "source": [
    "from corpy.morphodita import Tagger\n",
    "tagger = Tagger(\"./czech-morfflex-pdt-161115.tagger\")\n",
    "def lemmatizer(slovo):\n",
    "    tokens = list(tagger.tag(slovo))\n",
    "    a=''.join(str(tokens))\n",
    "    ind1=a.find('a=')\n",
    "    ind2=a.find(\"'\",ind1+3)\n",
    "    return a[ind1+3:ind2]"
   ]
  },
  {
   "cell_type": "markdown",
   "metadata": {},
   "source": [
    "## stopwords"
   ]
  },
  {
   "cell_type": "code",
   "execution_count": 4,
   "metadata": {},
   "outputs": [],
   "source": [
    "filename = 'stopwords-cs.txt'\n",
    "stopwords = np.loadtxt(filename, dtype=str,encoding=\"utf8\")\n",
    "def delete_stopwords(lematizovana_slova):\n",
    "    return list(set(lematizovana_slova)-set(stopwords))"
   ]
  },
  {
   "cell_type": "markdown",
   "metadata": {},
   "source": [
    "## load data"
   ]
  },
  {
   "cell_type": "code",
   "execution_count": 5,
   "metadata": {},
   "outputs": [],
   "source": [
    "df=pd.ExcelFile('C:/Users/vacla/OneDrive/Dokumenty/Audiozprávy/article_archive_cleared.xls')"
   ]
  },
  {
   "cell_type": "code",
   "execution_count": 6,
   "metadata": {
    "scrolled": true
   },
   "outputs": [
    {
     "data": {
      "text/html": [
       "<div>\n",
       "<style scoped>\n",
       "    .dataframe tbody tr th:only-of-type {\n",
       "        vertical-align: middle;\n",
       "    }\n",
       "\n",
       "    .dataframe tbody tr th {\n",
       "        vertical-align: top;\n",
       "    }\n",
       "\n",
       "    .dataframe thead th {\n",
       "        text-align: right;\n",
       "    }\n",
       "</style>\n",
       "<table border=\"1\" class=\"dataframe\">\n",
       "  <thead>\n",
       "    <tr style=\"text-align: right;\">\n",
       "      <th></th>\n",
       "      <th>title</th>\n",
       "      <th>link</th>\n",
       "      <th>summary</th>\n",
       "      <th>published</th>\n",
       "      <th>tags</th>\n",
       "      <th>category</th>\n",
       "      <th>credit</th>\n",
       "      <th>source</th>\n",
       "    </tr>\n",
       "  </thead>\n",
       "  <tbody>\n",
       "    <tr>\n",
       "      <th>0</th>\n",
       "      <td>Pokud chceme pandemii udržet pod kontrolou, je...</td>\n",
       "      <td>https://www.lidovky.cz/domov/pokud-chceme-pand...</td>\n",
       "      <td>Příznivý vývoj epidemie koronaviru v Česku lze...</td>\n",
       "      <td>2021-05-28 20:20:00</td>\n",
       "      <td>['Zprávy - Domov']</td>\n",
       "      <td>Zprávy z domova</td>\n",
       "      <td>ČTK</td>\n",
       "      <td>lidovky.cz</td>\n",
       "    </tr>\n",
       "    <tr>\n",
       "      <th>1</th>\n",
       "      <td>Hlavní manažer ANO pobíral neoprávněně plný za...</td>\n",
       "      <td>https://www.lidovky.cz/domov/hlavni-manazer-an...</td>\n",
       "      <td>Hlavní manažer hnutí ANO Jan Richter loni pobí...</td>\n",
       "      <td>2021-05-28 18:53:00</td>\n",
       "      <td>['Zprávy - Domov']</td>\n",
       "      <td>Zprávy z domova</td>\n",
       "      <td>MAFRA</td>\n",
       "      <td>lidovky.cz</td>\n",
       "    </tr>\n",
       "    <tr>\n",
       "      <th>2</th>\n",
       "      <td>Vzpomeňme si, co udělaly bary loni v létě, mla...</td>\n",
       "      <td>https://www.lidovky.cz/domov/prilisne-rozvolne...</td>\n",
       "      <td>Po zmírnění protiepidemických opatření, ke kte...</td>\n",
       "      <td>2021-05-28 18:03:00</td>\n",
       "      <td>['Zprávy - Domov']</td>\n",
       "      <td>Zprávy z domova</td>\n",
       "      <td>Petr Lundák MAFRA</td>\n",
       "      <td>lidovky.cz</td>\n",
       "    </tr>\n",
       "    <tr>\n",
       "      <th>3</th>\n",
       "      <td>Poslední „Berdychovec“ je za mřížemi. Policie ...</td>\n",
       "      <td>https://www.lidovky.cz/domov/policie-privezla-...</td>\n",
       "      <td>Čeští kriminalisté přivezli z USA Jaromíra Pro...</td>\n",
       "      <td>2021-05-28 18:03:00</td>\n",
       "      <td>['Zprávy - Domov']</td>\n",
       "      <td>Zprávy z domova</td>\n",
       "      <td>Policie ČR</td>\n",
       "      <td>lidovky.cz</td>\n",
       "    </tr>\n",
       "    <tr>\n",
       "      <th>4</th>\n",
       "      <td>Mezi Českem a sedmi zeměmi bude po první dávce...</td>\n",
       "      <td>https://www.lidovky.cz/domov/mezi-ceskem-a-sed...</td>\n",
       "      <td>Ze Slovenska, Polska, Německa, Rakouska, Maďar...</td>\n",
       "      <td>2021-05-28 18:01:00</td>\n",
       "      <td>['Zprávy - Domov']</td>\n",
       "      <td>Zprávy z domova</td>\n",
       "      <td>ČTK</td>\n",
       "      <td>lidovky.cz</td>\n",
       "    </tr>\n",
       "  </tbody>\n",
       "</table>\n",
       "</div>"
      ],
      "text/plain": [
       "                                               title  \\\n",
       "0  Pokud chceme pandemii udržet pod kontrolou, je...   \n",
       "1  Hlavní manažer ANO pobíral neoprávněně plný za...   \n",
       "2  Vzpomeňme si, co udělaly bary loni v létě, mla...   \n",
       "3  Poslední „Berdychovec“ je za mřížemi. Policie ...   \n",
       "4  Mezi Českem a sedmi zeměmi bude po první dávce...   \n",
       "\n",
       "                                                link  \\\n",
       "0  https://www.lidovky.cz/domov/pokud-chceme-pand...   \n",
       "1  https://www.lidovky.cz/domov/hlavni-manazer-an...   \n",
       "2  https://www.lidovky.cz/domov/prilisne-rozvolne...   \n",
       "3  https://www.lidovky.cz/domov/policie-privezla-...   \n",
       "4  https://www.lidovky.cz/domov/mezi-ceskem-a-sed...   \n",
       "\n",
       "                                             summary           published  \\\n",
       "0  Příznivý vývoj epidemie koronaviru v Česku lze... 2021-05-28 20:20:00   \n",
       "1  Hlavní manažer hnutí ANO Jan Richter loni pobí... 2021-05-28 18:53:00   \n",
       "2  Po zmírnění protiepidemických opatření, ke kte... 2021-05-28 18:03:00   \n",
       "3  Čeští kriminalisté přivezli z USA Jaromíra Pro... 2021-05-28 18:03:00   \n",
       "4  Ze Slovenska, Polska, Německa, Rakouska, Maďar... 2021-05-28 18:01:00   \n",
       "\n",
       "                 tags         category             credit      source  \n",
       "0  ['Zprávy - Domov']  Zprávy z domova                ČTK  lidovky.cz  \n",
       "1  ['Zprávy - Domov']  Zprávy z domova              MAFRA  lidovky.cz  \n",
       "2  ['Zprávy - Domov']  Zprávy z domova  Petr Lundák MAFRA  lidovky.cz  \n",
       "3  ['Zprávy - Domov']  Zprávy z domova         Policie ČR  lidovky.cz  \n",
       "4  ['Zprávy - Domov']  Zprávy z domova                ČTK  lidovky.cz  "
      ]
     },
     "execution_count": 6,
     "metadata": {},
     "output_type": "execute_result"
    }
   ],
   "source": [
    "articles=df.parse('article_archive')\n",
    "articles.head()"
   ]
  },
  {
   "cell_type": "code",
   "execution_count": 134,
   "metadata": {},
   "outputs": [],
   "source": [
    "#test\n",
    "articles=articles[['title','summary']]"
   ]
  },
  {
   "cell_type": "markdown",
   "metadata": {},
   "source": [
    "### prepare data, merge rows and create dataset"
   ]
  },
  {
   "cell_type": "code",
   "execution_count": 135,
   "metadata": {
    "scrolled": true
   },
   "outputs": [
    {
     "name": "stderr",
     "output_type": "stream",
     "text": [
      "C:\\Users\\vacla\\AppData\\Local\\Temp/ipykernel_14216/2376134229.py:4: SettingWithCopyWarning: \n",
      "A value is trying to be set on a copy of a slice from a DataFrame.\n",
      "Try using .loc[row_indexer,col_indexer] = value instead\n",
      "\n",
      "See the caveats in the documentation: https://pandas.pydata.org/pandas-docs/stable/user_guide/indexing.html#returning-a-view-versus-a-copy\n",
      "  ddd[type]=ddd[type].astype(str)\n"
     ]
    }
   ],
   "source": [
    "ddd=articles\n",
    "#ddd['published']=np.datetime_as_string(ddd['published'])\n",
    "for type in ddd.columns:\n",
    "    ddd[type]=ddd[type].astype(str)"
   ]
  },
  {
   "cell_type": "code",
   "execution_count": 136,
   "metadata": {},
   "outputs": [
    {
     "data": {
      "text/html": [
       "<div>\n",
       "<style scoped>\n",
       "    .dataframe tbody tr th:only-of-type {\n",
       "        vertical-align: middle;\n",
       "    }\n",
       "\n",
       "    .dataframe tbody tr th {\n",
       "        vertical-align: top;\n",
       "    }\n",
       "\n",
       "    .dataframe thead th {\n",
       "        text-align: right;\n",
       "    }\n",
       "</style>\n",
       "<table border=\"1\" class=\"dataframe\">\n",
       "  <thead>\n",
       "    <tr style=\"text-align: right;\">\n",
       "      <th></th>\n",
       "      <th>title</th>\n",
       "      <th>summary</th>\n",
       "    </tr>\n",
       "  </thead>\n",
       "  <tbody>\n",
       "    <tr>\n",
       "      <th>0</th>\n",
       "      <td>Pokud chceme pandemii udržet pod kontrolou, je...</td>\n",
       "      <td>Příznivý vývoj epidemie koronaviru v Česku lze...</td>\n",
       "    </tr>\n",
       "    <tr>\n",
       "      <th>1</th>\n",
       "      <td>Hlavní manažer ANO pobíral neoprávněně plný za...</td>\n",
       "      <td>Hlavní manažer hnutí ANO Jan Richter loni pobí...</td>\n",
       "    </tr>\n",
       "    <tr>\n",
       "      <th>2</th>\n",
       "      <td>Vzpomeňme si, co udělaly bary loni v létě, mla...</td>\n",
       "      <td>Po zmírnění protiepidemických opatření, ke kte...</td>\n",
       "    </tr>\n",
       "    <tr>\n",
       "      <th>3</th>\n",
       "      <td>Poslední „Berdychovec“ je za mřížemi. Policie ...</td>\n",
       "      <td>Čeští kriminalisté přivezli z USA Jaromíra Pro...</td>\n",
       "    </tr>\n",
       "    <tr>\n",
       "      <th>4</th>\n",
       "      <td>Mezi Českem a sedmi zeměmi bude po první dávce...</td>\n",
       "      <td>Ze Slovenska, Polska, Německa, Rakouska, Maďar...</td>\n",
       "    </tr>\n",
       "    <tr>\n",
       "      <th>...</th>\n",
       "      <td>...</td>\n",
       "      <td>...</td>\n",
       "    </tr>\n",
       "    <tr>\n",
       "      <th>5543</th>\n",
       "      <td>Podle čeho najde Gróňan při návratu z hospody ...</td>\n",
       "      <td>Grónský deník Albíny Mrázové: Zdejší krajina s...</td>\n",
       "    </tr>\n",
       "    <tr>\n",
       "      <th>5544</th>\n",
       "      <td>V čem jsou slabiny a rizika současného světové...</td>\n",
       "      <td>Komentář Ivana Mikloše: Současná situace ve sv...</td>\n",
       "    </tr>\n",
       "    <tr>\n",
       "      <th>5545</th>\n",
       "      <td>Ústečtí muzejníci chtějí zachránit přes 100 le...</td>\n",
       "      <td>Muzeum města Ústí nad Labem se snaží zachránit...</td>\n",
       "    </tr>\n",
       "    <tr>\n",
       "      <th>5546</th>\n",
       "      <td>Cannes 2021 přineslo sondy do nemocných duší. ...</td>\n",
       "      <td>Zlatou palmu si dnes z&amp;#160;Cannes odnesl lehc...</td>\n",
       "    </tr>\n",
       "    <tr>\n",
       "      <th>5547</th>\n",
       "      <td>Josef Bernard: Stát musí přijít s pobídkami, a...</td>\n",
       "      <td>Kdy se definitivně rozloučíme s auty se spalov...</td>\n",
       "    </tr>\n",
       "  </tbody>\n",
       "</table>\n",
       "<p>5548 rows × 2 columns</p>\n",
       "</div>"
      ],
      "text/plain": [
       "                                                  title  \\\n",
       "0     Pokud chceme pandemii udržet pod kontrolou, je...   \n",
       "1     Hlavní manažer ANO pobíral neoprávněně plný za...   \n",
       "2     Vzpomeňme si, co udělaly bary loni v létě, mla...   \n",
       "3     Poslední „Berdychovec“ je za mřížemi. Policie ...   \n",
       "4     Mezi Českem a sedmi zeměmi bude po první dávce...   \n",
       "...                                                 ...   \n",
       "5543  Podle čeho najde Gróňan při návratu z hospody ...   \n",
       "5544  V čem jsou slabiny a rizika současného světové...   \n",
       "5545  Ústečtí muzejníci chtějí zachránit přes 100 le...   \n",
       "5546  Cannes 2021 přineslo sondy do nemocných duší. ...   \n",
       "5547  Josef Bernard: Stát musí přijít s pobídkami, a...   \n",
       "\n",
       "                                                summary  \n",
       "0     Příznivý vývoj epidemie koronaviru v Česku lze...  \n",
       "1     Hlavní manažer hnutí ANO Jan Richter loni pobí...  \n",
       "2     Po zmírnění protiepidemických opatření, ke kte...  \n",
       "3     Čeští kriminalisté přivezli z USA Jaromíra Pro...  \n",
       "4     Ze Slovenska, Polska, Německa, Rakouska, Maďar...  \n",
       "...                                                 ...  \n",
       "5543  Grónský deník Albíny Mrázové: Zdejší krajina s...  \n",
       "5544  Komentář Ivana Mikloše: Současná situace ve sv...  \n",
       "5545  Muzeum města Ústí nad Labem se snaží zachránit...  \n",
       "5546  Zlatou palmu si dnes z&#160;Cannes odnesl lehc...  \n",
       "5547  Kdy se definitivně rozloučíme s auty se spalov...  \n",
       "\n",
       "[5548 rows x 2 columns]"
      ]
     },
     "execution_count": 136,
     "metadata": {},
     "output_type": "execute_result"
    }
   ],
   "source": [
    "ddd"
   ]
  },
  {
   "cell_type": "code",
   "execution_count": 137,
   "metadata": {
    "scrolled": true
   },
   "outputs": [
    {
     "ename": "KeyError",
     "evalue": "'published'",
     "output_type": "error",
     "traceback": [
      "\u001b[1;31m---------------------------------------------------------------------------\u001b[0m",
      "\u001b[1;31mKeyError\u001b[0m                                  Traceback (most recent call last)",
      "\u001b[1;32mc:\\users\\vacla\\onedrive\\dokumenty\\github\\01das\\dastest\\lib\\site-packages\\pandas\\core\\indexes\\base.py\u001b[0m in \u001b[0;36mget_loc\u001b[1;34m(self, key, method, tolerance)\u001b[0m\n\u001b[0;32m   3360\u001b[0m             \u001b[1;32mtry\u001b[0m\u001b[1;33m:\u001b[0m\u001b[1;33m\u001b[0m\u001b[1;33m\u001b[0m\u001b[0m\n\u001b[1;32m-> 3361\u001b[1;33m                 \u001b[1;32mreturn\u001b[0m \u001b[0mself\u001b[0m\u001b[1;33m.\u001b[0m\u001b[0m_engine\u001b[0m\u001b[1;33m.\u001b[0m\u001b[0mget_loc\u001b[0m\u001b[1;33m(\u001b[0m\u001b[0mcasted_key\u001b[0m\u001b[1;33m)\u001b[0m\u001b[1;33m\u001b[0m\u001b[1;33m\u001b[0m\u001b[0m\n\u001b[0m\u001b[0;32m   3362\u001b[0m             \u001b[1;32mexcept\u001b[0m \u001b[0mKeyError\u001b[0m \u001b[1;32mas\u001b[0m \u001b[0merr\u001b[0m\u001b[1;33m:\u001b[0m\u001b[1;33m\u001b[0m\u001b[1;33m\u001b[0m\u001b[0m\n",
      "\u001b[1;32mc:\\users\\vacla\\onedrive\\dokumenty\\github\\01das\\dastest\\lib\\site-packages\\pandas\\_libs\\index.pyx\u001b[0m in \u001b[0;36mpandas._libs.index.IndexEngine.get_loc\u001b[1;34m()\u001b[0m\n",
      "\u001b[1;32mc:\\users\\vacla\\onedrive\\dokumenty\\github\\01das\\dastest\\lib\\site-packages\\pandas\\_libs\\index.pyx\u001b[0m in \u001b[0;36mpandas._libs.index.IndexEngine.get_loc\u001b[1;34m()\u001b[0m\n",
      "\u001b[1;32mpandas\\_libs\\hashtable_class_helper.pxi\u001b[0m in \u001b[0;36mpandas._libs.hashtable.PyObjectHashTable.get_item\u001b[1;34m()\u001b[0m\n",
      "\u001b[1;32mpandas\\_libs\\hashtable_class_helper.pxi\u001b[0m in \u001b[0;36mpandas._libs.hashtable.PyObjectHashTable.get_item\u001b[1;34m()\u001b[0m\n",
      "\u001b[1;31mKeyError\u001b[0m: 'published'",
      "\nThe above exception was the direct cause of the following exception:\n",
      "\u001b[1;31mKeyError\u001b[0m                                  Traceback (most recent call last)",
      "\u001b[1;32m~\\AppData\\Local\\Temp/ipykernel_14216/1026842304.py\u001b[0m in \u001b[0;36m<module>\u001b[1;34m\u001b[0m\n\u001b[0;32m      1\u001b[0m \u001b[1;32mfor\u001b[0m \u001b[0mi\u001b[0m \u001b[1;32min\u001b[0m \u001b[0mrange\u001b[0m\u001b[1;33m(\u001b[0m\u001b[0mddd\u001b[0m\u001b[1;33m.\u001b[0m\u001b[0mshape\u001b[0m\u001b[1;33m[\u001b[0m\u001b[1;36m0\u001b[0m\u001b[1;33m]\u001b[0m\u001b[1;33m)\u001b[0m\u001b[1;33m:\u001b[0m\u001b[1;33m\u001b[0m\u001b[1;33m\u001b[0m\u001b[0m\n\u001b[1;32m----> 2\u001b[1;33m     \u001b[0mi1\u001b[0m\u001b[1;33m=\u001b[0m\u001b[0mddd\u001b[0m\u001b[1;33m[\u001b[0m\u001b[1;34m'published'\u001b[0m\u001b[1;33m]\u001b[0m\u001b[1;33m[\u001b[0m\u001b[0mi\u001b[0m\u001b[1;33m]\u001b[0m\u001b[1;33m[\u001b[0m\u001b[1;36m0\u001b[0m\u001b[1;33m:\u001b[0m\u001b[1;36m4\u001b[0m\u001b[1;33m]\u001b[0m\u001b[1;33m\u001b[0m\u001b[1;33m\u001b[0m\u001b[0m\n\u001b[0m\u001b[0;32m      3\u001b[0m     \u001b[0mi2\u001b[0m\u001b[1;33m=\u001b[0m\u001b[0mddd\u001b[0m\u001b[1;33m[\u001b[0m\u001b[1;34m'published'\u001b[0m\u001b[1;33m]\u001b[0m\u001b[1;33m[\u001b[0m\u001b[0mi\u001b[0m\u001b[1;33m]\u001b[0m\u001b[1;33m[\u001b[0m\u001b[1;36m5\u001b[0m\u001b[1;33m:\u001b[0m\u001b[1;36m7\u001b[0m\u001b[1;33m]\u001b[0m\u001b[1;33m\u001b[0m\u001b[1;33m\u001b[0m\u001b[0m\n\u001b[0;32m      4\u001b[0m     \u001b[0mi3\u001b[0m\u001b[1;33m=\u001b[0m\u001b[0mddd\u001b[0m\u001b[1;33m[\u001b[0m\u001b[1;34m'published'\u001b[0m\u001b[1;33m]\u001b[0m\u001b[1;33m[\u001b[0m\u001b[0mi\u001b[0m\u001b[1;33m]\u001b[0m\u001b[1;33m[\u001b[0m\u001b[1;36m8\u001b[0m\u001b[1;33m:\u001b[0m\u001b[1;36m10\u001b[0m\u001b[1;33m]\u001b[0m\u001b[1;33m\u001b[0m\u001b[1;33m\u001b[0m\u001b[0m\n\u001b[0;32m      5\u001b[0m     \u001b[0mi4\u001b[0m\u001b[1;33m=\u001b[0m\u001b[0mddd\u001b[0m\u001b[1;33m[\u001b[0m\u001b[1;34m'published'\u001b[0m\u001b[1;33m]\u001b[0m\u001b[1;33m[\u001b[0m\u001b[0mi\u001b[0m\u001b[1;33m]\u001b[0m\u001b[1;33m[\u001b[0m\u001b[1;36m11\u001b[0m\u001b[1;33m:\u001b[0m\u001b[1;36m13\u001b[0m\u001b[1;33m]\u001b[0m\u001b[1;33m\u001b[0m\u001b[1;33m\u001b[0m\u001b[0m\n",
      "\u001b[1;32mc:\\users\\vacla\\onedrive\\dokumenty\\github\\01das\\dastest\\lib\\site-packages\\pandas\\core\\frame.py\u001b[0m in \u001b[0;36m__getitem__\u001b[1;34m(self, key)\u001b[0m\n\u001b[0;32m   3456\u001b[0m             \u001b[1;32mif\u001b[0m \u001b[0mself\u001b[0m\u001b[1;33m.\u001b[0m\u001b[0mcolumns\u001b[0m\u001b[1;33m.\u001b[0m\u001b[0mnlevels\u001b[0m \u001b[1;33m>\u001b[0m \u001b[1;36m1\u001b[0m\u001b[1;33m:\u001b[0m\u001b[1;33m\u001b[0m\u001b[1;33m\u001b[0m\u001b[0m\n\u001b[0;32m   3457\u001b[0m                 \u001b[1;32mreturn\u001b[0m \u001b[0mself\u001b[0m\u001b[1;33m.\u001b[0m\u001b[0m_getitem_multilevel\u001b[0m\u001b[1;33m(\u001b[0m\u001b[0mkey\u001b[0m\u001b[1;33m)\u001b[0m\u001b[1;33m\u001b[0m\u001b[1;33m\u001b[0m\u001b[0m\n\u001b[1;32m-> 3458\u001b[1;33m             \u001b[0mindexer\u001b[0m \u001b[1;33m=\u001b[0m \u001b[0mself\u001b[0m\u001b[1;33m.\u001b[0m\u001b[0mcolumns\u001b[0m\u001b[1;33m.\u001b[0m\u001b[0mget_loc\u001b[0m\u001b[1;33m(\u001b[0m\u001b[0mkey\u001b[0m\u001b[1;33m)\u001b[0m\u001b[1;33m\u001b[0m\u001b[1;33m\u001b[0m\u001b[0m\n\u001b[0m\u001b[0;32m   3459\u001b[0m             \u001b[1;32mif\u001b[0m \u001b[0mis_integer\u001b[0m\u001b[1;33m(\u001b[0m\u001b[0mindexer\u001b[0m\u001b[1;33m)\u001b[0m\u001b[1;33m:\u001b[0m\u001b[1;33m\u001b[0m\u001b[1;33m\u001b[0m\u001b[0m\n\u001b[0;32m   3460\u001b[0m                 \u001b[0mindexer\u001b[0m \u001b[1;33m=\u001b[0m \u001b[1;33m[\u001b[0m\u001b[0mindexer\u001b[0m\u001b[1;33m]\u001b[0m\u001b[1;33m\u001b[0m\u001b[1;33m\u001b[0m\u001b[0m\n",
      "\u001b[1;32mc:\\users\\vacla\\onedrive\\dokumenty\\github\\01das\\dastest\\lib\\site-packages\\pandas\\core\\indexes\\base.py\u001b[0m in \u001b[0;36mget_loc\u001b[1;34m(self, key, method, tolerance)\u001b[0m\n\u001b[0;32m   3361\u001b[0m                 \u001b[1;32mreturn\u001b[0m \u001b[0mself\u001b[0m\u001b[1;33m.\u001b[0m\u001b[0m_engine\u001b[0m\u001b[1;33m.\u001b[0m\u001b[0mget_loc\u001b[0m\u001b[1;33m(\u001b[0m\u001b[0mcasted_key\u001b[0m\u001b[1;33m)\u001b[0m\u001b[1;33m\u001b[0m\u001b[1;33m\u001b[0m\u001b[0m\n\u001b[0;32m   3362\u001b[0m             \u001b[1;32mexcept\u001b[0m \u001b[0mKeyError\u001b[0m \u001b[1;32mas\u001b[0m \u001b[0merr\u001b[0m\u001b[1;33m:\u001b[0m\u001b[1;33m\u001b[0m\u001b[1;33m\u001b[0m\u001b[0m\n\u001b[1;32m-> 3363\u001b[1;33m                 \u001b[1;32mraise\u001b[0m \u001b[0mKeyError\u001b[0m\u001b[1;33m(\u001b[0m\u001b[0mkey\u001b[0m\u001b[1;33m)\u001b[0m \u001b[1;32mfrom\u001b[0m \u001b[0merr\u001b[0m\u001b[1;33m\u001b[0m\u001b[1;33m\u001b[0m\u001b[0m\n\u001b[0m\u001b[0;32m   3364\u001b[0m \u001b[1;33m\u001b[0m\u001b[0m\n\u001b[0;32m   3365\u001b[0m         \u001b[1;32mif\u001b[0m \u001b[0mis_scalar\u001b[0m\u001b[1;33m(\u001b[0m\u001b[0mkey\u001b[0m\u001b[1;33m)\u001b[0m \u001b[1;32mand\u001b[0m \u001b[0misna\u001b[0m\u001b[1;33m(\u001b[0m\u001b[0mkey\u001b[0m\u001b[1;33m)\u001b[0m \u001b[1;32mand\u001b[0m \u001b[1;32mnot\u001b[0m \u001b[0mself\u001b[0m\u001b[1;33m.\u001b[0m\u001b[0mhasnans\u001b[0m\u001b[1;33m:\u001b[0m\u001b[1;33m\u001b[0m\u001b[1;33m\u001b[0m\u001b[0m\n",
      "\u001b[1;31mKeyError\u001b[0m: 'published'"
     ]
    }
   ],
   "source": [
    "for i in range(ddd.shape[0]):\n",
    "    i1=ddd['published'][i][0:4]\n",
    "    i2=ddd['published'][i][5:7]\n",
    "    i3=ddd['published'][i][8:10]\n",
    "    i4=ddd['published'][i][11:13]\n",
    "    i5=ddd['published'][i][14:16]\n",
    "    ddd['published'][i]=str(i1 + ' '+i2+' ' +i3+' ' +i4+' ' +i5 )\n",
    "    #h=[i1,i2,i3,i4,i5]\n",
    "    #for j in range(len(h)):\n",
    "    #    ch=' '.join(h[i])\n",
    "    #    ddd['published'].append(g)"
   ]
  },
  {
   "cell_type": "code",
   "execution_count": 138,
   "metadata": {},
   "outputs": [],
   "source": [
    "data=[]\n",
    "for i in range(ddd.shape[0]):\n",
    "    g=' '.join(ddd.loc[i])\n",
    "    data.append(g)"
   ]
  },
  {
   "cell_type": "code",
   "execution_count": 140,
   "metadata": {},
   "outputs": [
    {
     "name": "stdout",
     "output_type": "stream",
     "text": [
      "Wall time: 11.2 s\n"
     ]
    }
   ],
   "source": [
    "%%time\n",
    "databaze=[]\n",
    "d=[]\n",
    "for clanek in data:\n",
    "    d=tokeny(clanek)\n",
    "    d=delete_stopwords(d) #change 1\n",
    "    e=[]\n",
    "    for slovo in d:\n",
    "        e.append(lemmatizer(slovo))\n",
    "    #e=delete_stopwords(e)\n",
    "    databaze.append(e)\n",
    "        "
   ]
  },
  {
   "cell_type": "markdown",
   "metadata": {},
   "source": [
    "### to shape of CountVectorizer"
   ]
  },
  {
   "cell_type": "code",
   "execution_count": 141,
   "metadata": {},
   "outputs": [],
   "source": [
    "dataset=[]\n",
    "for index in range(len(databaze)):\n",
    "    store=' '.join(databaze[index])\n",
    "    dataset.append(store)\n"
   ]
  },
  {
   "cell_type": "code",
   "execution_count": 142,
   "metadata": {},
   "outputs": [],
   "source": [
    "from sklearn.feature_extraction.text import CountVectorizer\n",
    "\n",
    "vectorizer = CountVectorizer()\n",
    "train_x_vectors=vectorizer.fit_transform(dataset)"
   ]
  },
  {
   "cell_type": "code",
   "execution_count": 143,
   "metadata": {},
   "outputs": [
    {
     "name": "stdout",
     "output_type": "stream",
     "text": [
      "Wall time: 0 ns\n"
     ]
    }
   ],
   "source": [
    "%%time\n",
    "from sklearn.metrics.pairwise import cosine_similarity,cosine_distances\n"
   ]
  },
  {
   "cell_type": "code",
   "execution_count": 102,
   "metadata": {},
   "outputs": [
    {
     "name": "stdout",
     "output_type": "stream",
     "text": [
      "Wall time: 2.99 ms\n"
     ]
    }
   ],
   "source": [
    "%%time\n",
    "res=cosine_similarity(train_x_vectors[1],train_x_vectors[0])"
   ]
  },
  {
   "cell_type": "code",
   "execution_count": 108,
   "metadata": {},
   "outputs": [
    {
     "data": {
      "text/plain": [
       "0.8305555555555556"
      ]
     },
     "execution_count": 108,
     "metadata": {},
     "output_type": "execute_result"
    }
   ],
   "source": [
    "2.99*1000*1000/1000/3600"
   ]
  },
  {
   "cell_type": "code",
   "execution_count": 128,
   "metadata": {
    "scrolled": true
   },
   "outputs": [
    {
     "data": {
      "text/html": [
       "<div>\n",
       "<style scoped>\n",
       "    .dataframe tbody tr th:only-of-type {\n",
       "        vertical-align: middle;\n",
       "    }\n",
       "\n",
       "    .dataframe tbody tr th {\n",
       "        vertical-align: top;\n",
       "    }\n",
       "\n",
       "    .dataframe thead th {\n",
       "        text-align: right;\n",
       "    }\n",
       "</style>\n",
       "<table border=\"1\" class=\"dataframe\">\n",
       "  <thead>\n",
       "    <tr style=\"text-align: right;\">\n",
       "      <th></th>\n",
       "      <th>title</th>\n",
       "      <th>summary</th>\n",
       "      <th>published</th>\n",
       "      <th>source</th>\n",
       "    </tr>\n",
       "  </thead>\n",
       "  <tbody>\n",
       "    <tr>\n",
       "      <th>0</th>\n",
       "      <td>Pokud chceme pandemii udržet pod kontrolou, je...</td>\n",
       "      <td>Příznivý vývoj epidemie koronaviru v Česku lze...</td>\n",
       "      <td>2021 05 28 20 20</td>\n",
       "      <td>lidovky.cz</td>\n",
       "    </tr>\n",
       "    <tr>\n",
       "      <th>1</th>\n",
       "      <td>Hlavní manažer ANO pobíral neoprávněně plný za...</td>\n",
       "      <td>Hlavní manažer hnutí ANO Jan Richter loni pobí...</td>\n",
       "      <td>2021 05 28 18 53</td>\n",
       "      <td>lidovky.cz</td>\n",
       "    </tr>\n",
       "    <tr>\n",
       "      <th>2</th>\n",
       "      <td>Vzpomeňme si, co udělaly bary loni v létě, mla...</td>\n",
       "      <td>Po zmírnění protiepidemických opatření, ke kte...</td>\n",
       "      <td>2021 05 28 18 03</td>\n",
       "      <td>lidovky.cz</td>\n",
       "    </tr>\n",
       "    <tr>\n",
       "      <th>3</th>\n",
       "      <td>Poslední „Berdychovec“ je za mřížemi. Policie ...</td>\n",
       "      <td>Čeští kriminalisté přivezli z USA Jaromíra Pro...</td>\n",
       "      <td>2021 05 28 18 03</td>\n",
       "      <td>lidovky.cz</td>\n",
       "    </tr>\n",
       "    <tr>\n",
       "      <th>4</th>\n",
       "      <td>Mezi Českem a sedmi zeměmi bude po první dávce...</td>\n",
       "      <td>Ze Slovenska, Polska, Německa, Rakouska, Maďar...</td>\n",
       "      <td>2021 05 28 18 01</td>\n",
       "      <td>lidovky.cz</td>\n",
       "    </tr>\n",
       "    <tr>\n",
       "      <th>5</th>\n",
       "      <td>Děti by se mohly očkovat od konce června, uved...</td>\n",
       "      <td>Očkování proti covidu-19 je důležité pro děti ...</td>\n",
       "      <td>2021 05 28 17 30</td>\n",
       "      <td>lidovky.cz</td>\n",
       "    </tr>\n",
       "    <tr>\n",
       "      <th>6</th>\n",
       "      <td>Volné cestování po první dávce očkování je pln...</td>\n",
       "      <td>Ačkoli se Česko odvolává na reciprocitu se sou...</td>\n",
       "      <td>2021 05 28 16 00</td>\n",
       "      <td>lidovky.cz</td>\n",
       "    </tr>\n",
       "    <tr>\n",
       "      <th>7</th>\n",
       "      <td>Úplné rozvolnění, kvůli soudu vláda od pondělí...</td>\n",
       "      <td>Přestřižení posledních proticovidových provazů...</td>\n",
       "      <td>2021 05 28 14 24</td>\n",
       "      <td>lidovky.cz</td>\n",
       "    </tr>\n",
       "    <tr>\n",
       "      <th>8</th>\n",
       "      <td>Hamáček na vládě předloží postup, jak odškodni...</td>\n",
       "      <td>Ministr vnitra Jan Hamáček (ČSSD) v pondělí vl...</td>\n",
       "      <td>2021 05 28 14 02</td>\n",
       "      <td>lidovky.cz</td>\n",
       "    </tr>\n",
       "    <tr>\n",
       "      <th>9</th>\n",
       "      <td>Mrhají nadšením vědců, říká o chování státu vi...</td>\n",
       "      <td>Výzkumný ústav BIOCEV už tři měsíce sekvenuje ...</td>\n",
       "      <td>2021 05 28 14 00</td>\n",
       "      <td>lidovky.cz</td>\n",
       "    </tr>\n",
       "    <tr>\n",
       "      <th>10</th>\n",
       "      <td>Restaurace i bazény se otevřou už od pondělí. ...</td>\n",
       "      <td>Vláda od pondělka výrazně rozvolní protiepidem...</td>\n",
       "      <td>2021 05 28 13 19</td>\n",
       "      <td>lidovky.cz</td>\n",
       "    </tr>\n",
       "  </tbody>\n",
       "</table>\n",
       "</div>"
      ],
      "text/plain": [
       "                                                title  \\\n",
       "0   Pokud chceme pandemii udržet pod kontrolou, je...   \n",
       "1   Hlavní manažer ANO pobíral neoprávněně plný za...   \n",
       "2   Vzpomeňme si, co udělaly bary loni v létě, mla...   \n",
       "3   Poslední „Berdychovec“ je za mřížemi. Policie ...   \n",
       "4   Mezi Českem a sedmi zeměmi bude po první dávce...   \n",
       "5   Děti by se mohly očkovat od konce června, uved...   \n",
       "6   Volné cestování po první dávce očkování je pln...   \n",
       "7   Úplné rozvolnění, kvůli soudu vláda od pondělí...   \n",
       "8   Hamáček na vládě předloží postup, jak odškodni...   \n",
       "9   Mrhají nadšením vědců, říká o chování státu vi...   \n",
       "10  Restaurace i bazény se otevřou už od pondělí. ...   \n",
       "\n",
       "                                              summary         published  \\\n",
       "0   Příznivý vývoj epidemie koronaviru v Česku lze...  2021 05 28 20 20   \n",
       "1   Hlavní manažer hnutí ANO Jan Richter loni pobí...  2021 05 28 18 53   \n",
       "2   Po zmírnění protiepidemických opatření, ke kte...  2021 05 28 18 03   \n",
       "3   Čeští kriminalisté přivezli z USA Jaromíra Pro...  2021 05 28 18 03   \n",
       "4   Ze Slovenska, Polska, Německa, Rakouska, Maďar...  2021 05 28 18 01   \n",
       "5   Očkování proti covidu-19 je důležité pro děti ...  2021 05 28 17 30   \n",
       "6   Ačkoli se Česko odvolává na reciprocitu se sou...  2021 05 28 16 00   \n",
       "7   Přestřižení posledních proticovidových provazů...  2021 05 28 14 24   \n",
       "8   Ministr vnitra Jan Hamáček (ČSSD) v pondělí vl...  2021 05 28 14 02   \n",
       "9   Výzkumný ústav BIOCEV už tři měsíce sekvenuje ...  2021 05 28 14 00   \n",
       "10  Vláda od pondělka výrazně rozvolní protiepidem...  2021 05 28 13 19   \n",
       "\n",
       "        source  \n",
       "0   lidovky.cz  \n",
       "1   lidovky.cz  \n",
       "2   lidovky.cz  \n",
       "3   lidovky.cz  \n",
       "4   lidovky.cz  \n",
       "5   lidovky.cz  \n",
       "6   lidovky.cz  \n",
       "7   lidovky.cz  \n",
       "8   lidovky.cz  \n",
       "9   lidovky.cz  \n",
       "10  lidovky.cz  "
      ]
     },
     "execution_count": 128,
     "metadata": {},
     "output_type": "execute_result"
    }
   ],
   "source": [
    "articles.loc[0:10,['title','summary','published','source']]\n"
   ]
  },
  {
   "cell_type": "code",
   "execution_count": 151,
   "metadata": {
    "scrolled": true
   },
   "outputs": [
    {
     "data": {
      "text/plain": [
       "title      Vakcína pro děti nad dvanáct let: Kdy mohou př...\n",
       "summary    Zítra má Evropská léková agentura (EMA) doporu...\n",
       "Name: 446, dtype: object"
      ]
     },
     "execution_count": 151,
     "metadata": {},
     "output_type": "execute_result"
    }
   ],
   "source": [
    "articles.loc[446,['title','summary']]\n"
   ]
  },
  {
   "cell_type": "markdown",
   "metadata": {},
   "source": [
    "## duplicated articles\n",
    "* 1 a 441\n",
    "* 5 a 446"
   ]
  },
  {
   "cell_type": "code",
   "execution_count": 145,
   "metadata": {},
   "outputs": [
    {
     "data": {
      "text/plain": [
       "array([[0.15308091]])"
      ]
     },
     "execution_count": 145,
     "metadata": {},
     "output_type": "execute_result"
    }
   ],
   "source": [
    "cosine_similarity(train_x_vectors[0],train_x_vectors[4])"
   ]
  },
  {
   "cell_type": "code",
   "execution_count": 146,
   "metadata": {
    "scrolled": true
   },
   "outputs": [
    {
     "data": {
      "text/plain": [
       "array([[0.54352309]])"
      ]
     },
     "execution_count": 146,
     "metadata": {},
     "output_type": "execute_result"
    }
   ],
   "source": [
    "cosine_similarity(train_x_vectors[1],train_x_vectors[441])"
   ]
  },
  {
   "cell_type": "code",
   "execution_count": 147,
   "metadata": {
    "scrolled": true
   },
   "outputs": [
    {
     "data": {
      "text/plain": [
       "array([[0.35816181]])"
      ]
     },
     "execution_count": 147,
     "metadata": {},
     "output_type": "execute_result"
    }
   ],
   "source": [
    "cosine_similarity(train_x_vectors[5],train_x_vectors[446])"
   ]
  },
  {
   "cell_type": "code",
   "execution_count": 148,
   "metadata": {},
   "outputs": [
    {
     "data": {
      "text/plain": [
       "array([[0.10006256]])"
      ]
     },
     "execution_count": 148,
     "metadata": {},
     "output_type": "execute_result"
    }
   ],
   "source": [
    "cosine_similarity(train_x_vectors[1],train_x_vectors[10])"
   ]
  },
  {
   "cell_type": "code",
   "execution_count": null,
   "metadata": {},
   "outputs": [],
   "source": []
  },
  {
   "cell_type": "code",
   "execution_count": null,
   "metadata": {},
   "outputs": [],
   "source": [
    "0-31 #28 05 - 27 05"
   ]
  },
  {
   "cell_type": "code",
   "execution_count": null,
   "metadata": {},
   "outputs": [],
   "source": [
    "443 a1"
   ]
  },
  {
   "cell_type": "code",
   "execution_count": null,
   "metadata": {},
   "outputs": [],
   "source": []
  }
 ],
 "metadata": {
  "kernelspec": {
   "display_name": "Python 3 (ipykernel)",
   "language": "python",
   "name": "python3"
  },
  "language_info": {
   "codemirror_mode": {
    "name": "ipython",
    "version": 3
   },
   "file_extension": ".py",
   "mimetype": "text/x-python",
   "name": "python",
   "nbconvert_exporter": "python",
   "pygments_lexer": "ipython3",
   "version": "3.9.0"
  }
 },
 "nbformat": 4,
 "nbformat_minor": 4
}
