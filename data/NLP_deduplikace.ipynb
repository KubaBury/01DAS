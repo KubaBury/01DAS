{
 "cells": [
  {
   "cell_type": "code",
   "execution_count": 1,
   "metadata": {},
   "outputs": [],
   "source": [
    "import pandas as pd\n",
    "import numpy as np"
   ]
  },
  {
   "cell_type": "markdown",
   "metadata": {},
   "source": [
    "## tokenizer and deleting punctuation"
   ]
  },
  {
   "cell_type": "code",
   "execution_count": 2,
   "metadata": {},
   "outputs": [],
   "source": [
    "from corpy.morphodita import Tokenizer\n",
    "tokenizer = Tokenizer(\"czech\")\n",
    "punc='[]{}()\"„“!@#$%^=_&*-:/,.\\''\n",
    "def tokeny(clanek):\n",
    "    cont=[]\n",
    "    for word in tokenizer.tokenize(clanek):\n",
    "        cont.append(word)\n",
    "    nopunc = [char for char in cont if char not in punc]\n",
    "    return nopunc"
   ]
  },
  {
   "cell_type": "markdown",
   "metadata": {},
   "source": [
    "## lemmatizer"
   ]
  },
  {
   "cell_type": "code",
   "execution_count": 3,
   "metadata": {},
   "outputs": [],
   "source": [
    "from corpy.morphodita import Tagger\n",
    "tagger = Tagger(\"./czech-morfflex-pdt-161115.tagger\")\n",
    "def lemmatizer(slovo):\n",
    "    tokens = list(tagger.tag(slovo))\n",
    "    a=''.join(str(tokens))\n",
    "    ind1=a.find('a=')\n",
    "    ind2=a.find(\"'\",ind1+3)\n",
    "    return a[ind1+3:ind2]"
   ]
  },
  {
   "cell_type": "markdown",
   "metadata": {},
   "source": [
    "## stopwords"
   ]
  },
  {
   "cell_type": "code",
   "execution_count": 4,
   "metadata": {},
   "outputs": [],
   "source": [
    "filename = 'stopwords-cs.txt'\n",
    "stopwords = np.loadtxt(filename, dtype=str,encoding=\"utf8\")\n",
    "def delete_stopwords(lematizovana_slova):\n",
    "    return list(set(lematizovana_slova)-set(stopwords))"
   ]
  },
  {
   "cell_type": "markdown",
   "metadata": {},
   "source": [
    "## load data"
   ]
  },
  {
   "cell_type": "code",
   "execution_count": 5,
   "metadata": {},
   "outputs": [],
   "source": [
    "df=pd.ExcelFile('C:/Users/vacla/OneDrive/Dokumenty/Audiozprávy/article_archive_cleared.xls')"
   ]
  },
  {
   "cell_type": "code",
   "execution_count": 15,
   "metadata": {
    "scrolled": true
   },
   "outputs": [
    {
     "data": {
      "text/html": [
       "<div>\n",
       "<style scoped>\n",
       "    .dataframe tbody tr th:only-of-type {\n",
       "        vertical-align: middle;\n",
       "    }\n",
       "\n",
       "    .dataframe tbody tr th {\n",
       "        vertical-align: top;\n",
       "    }\n",
       "\n",
       "    .dataframe thead th {\n",
       "        text-align: right;\n",
       "    }\n",
       "</style>\n",
       "<table border=\"1\" class=\"dataframe\">\n",
       "  <thead>\n",
       "    <tr style=\"text-align: right;\">\n",
       "      <th></th>\n",
       "      <th>title</th>\n",
       "      <th>link</th>\n",
       "      <th>summary</th>\n",
       "      <th>published</th>\n",
       "      <th>tags</th>\n",
       "      <th>category</th>\n",
       "      <th>credit</th>\n",
       "      <th>source</th>\n",
       "    </tr>\n",
       "  </thead>\n",
       "  <tbody>\n",
       "    <tr>\n",
       "      <th>0</th>\n",
       "      <td>Pokud chceme pandemii udržet pod kontrolou, je...</td>\n",
       "      <td>https://www.lidovky.cz/domov/pokud-chceme-pand...</td>\n",
       "      <td>Příznivý vývoj epidemie koronaviru v Česku lze...</td>\n",
       "      <td>2021-05-28 20:20:00</td>\n",
       "      <td>['Zprávy - Domov']</td>\n",
       "      <td>Zprávy z domova</td>\n",
       "      <td>ČTK</td>\n",
       "      <td>lidovky.cz</td>\n",
       "    </tr>\n",
       "    <tr>\n",
       "      <th>1</th>\n",
       "      <td>Hlavní manažer ANO pobíral neoprávněně plný za...</td>\n",
       "      <td>https://www.lidovky.cz/domov/hlavni-manazer-an...</td>\n",
       "      <td>Hlavní manažer hnutí ANO Jan Richter loni pobí...</td>\n",
       "      <td>2021-05-28 18:53:00</td>\n",
       "      <td>['Zprávy - Domov']</td>\n",
       "      <td>Zprávy z domova</td>\n",
       "      <td>MAFRA</td>\n",
       "      <td>lidovky.cz</td>\n",
       "    </tr>\n",
       "    <tr>\n",
       "      <th>2</th>\n",
       "      <td>Vzpomeňme si, co udělaly bary loni v létě, mla...</td>\n",
       "      <td>https://www.lidovky.cz/domov/prilisne-rozvolne...</td>\n",
       "      <td>Po zmírnění protiepidemických opatření, ke kte...</td>\n",
       "      <td>2021-05-28 18:03:00</td>\n",
       "      <td>['Zprávy - Domov']</td>\n",
       "      <td>Zprávy z domova</td>\n",
       "      <td>Petr Lundák MAFRA</td>\n",
       "      <td>lidovky.cz</td>\n",
       "    </tr>\n",
       "    <tr>\n",
       "      <th>3</th>\n",
       "      <td>Poslední „Berdychovec“ je za mřížemi. Policie ...</td>\n",
       "      <td>https://www.lidovky.cz/domov/policie-privezla-...</td>\n",
       "      <td>Čeští kriminalisté přivezli z USA Jaromíra Pro...</td>\n",
       "      <td>2021-05-28 18:03:00</td>\n",
       "      <td>['Zprávy - Domov']</td>\n",
       "      <td>Zprávy z domova</td>\n",
       "      <td>Policie ČR</td>\n",
       "      <td>lidovky.cz</td>\n",
       "    </tr>\n",
       "    <tr>\n",
       "      <th>4</th>\n",
       "      <td>Mezi Českem a sedmi zeměmi bude po první dávce...</td>\n",
       "      <td>https://www.lidovky.cz/domov/mezi-ceskem-a-sed...</td>\n",
       "      <td>Ze Slovenska, Polska, Německa, Rakouska, Maďar...</td>\n",
       "      <td>2021-05-28 18:01:00</td>\n",
       "      <td>['Zprávy - Domov']</td>\n",
       "      <td>Zprávy z domova</td>\n",
       "      <td>ČTK</td>\n",
       "      <td>lidovky.cz</td>\n",
       "    </tr>\n",
       "  </tbody>\n",
       "</table>\n",
       "</div>"
      ],
      "text/plain": [
       "                                               title  \\\n",
       "0  Pokud chceme pandemii udržet pod kontrolou, je...   \n",
       "1  Hlavní manažer ANO pobíral neoprávněně plný za...   \n",
       "2  Vzpomeňme si, co udělaly bary loni v létě, mla...   \n",
       "3  Poslední „Berdychovec“ je za mřížemi. Policie ...   \n",
       "4  Mezi Českem a sedmi zeměmi bude po první dávce...   \n",
       "\n",
       "                                                link  \\\n",
       "0  https://www.lidovky.cz/domov/pokud-chceme-pand...   \n",
       "1  https://www.lidovky.cz/domov/hlavni-manazer-an...   \n",
       "2  https://www.lidovky.cz/domov/prilisne-rozvolne...   \n",
       "3  https://www.lidovky.cz/domov/policie-privezla-...   \n",
       "4  https://www.lidovky.cz/domov/mezi-ceskem-a-sed...   \n",
       "\n",
       "                                             summary           published  \\\n",
       "0  Příznivý vývoj epidemie koronaviru v Česku lze... 2021-05-28 20:20:00   \n",
       "1  Hlavní manažer hnutí ANO Jan Richter loni pobí... 2021-05-28 18:53:00   \n",
       "2  Po zmírnění protiepidemických opatření, ke kte... 2021-05-28 18:03:00   \n",
       "3  Čeští kriminalisté přivezli z USA Jaromíra Pro... 2021-05-28 18:03:00   \n",
       "4  Ze Slovenska, Polska, Německa, Rakouska, Maďar... 2021-05-28 18:01:00   \n",
       "\n",
       "                 tags         category             credit      source  \n",
       "0  ['Zprávy - Domov']  Zprávy z domova                ČTK  lidovky.cz  \n",
       "1  ['Zprávy - Domov']  Zprávy z domova              MAFRA  lidovky.cz  \n",
       "2  ['Zprávy - Domov']  Zprávy z domova  Petr Lundák MAFRA  lidovky.cz  \n",
       "3  ['Zprávy - Domov']  Zprávy z domova         Policie ČR  lidovky.cz  \n",
       "4  ['Zprávy - Domov']  Zprávy z domova                ČTK  lidovky.cz  "
      ]
     },
     "execution_count": 15,
     "metadata": {},
     "output_type": "execute_result"
    }
   ],
   "source": [
    "articles=df.parse('article_archive')\n",
    "articles.head()"
   ]
  },
  {
   "cell_type": "code",
   "execution_count": null,
   "metadata": {},
   "outputs": [],
   "source": []
  },
  {
   "cell_type": "markdown",
   "metadata": {},
   "source": [
    "### looking for duplicated articles"
   ]
  },
  {
   "cell_type": "code",
   "execution_count": 40,
   "metadata": {},
   "outputs": [
    {
     "ename": "SyntaxError",
     "evalue": "invalid syntax (Temp/ipykernel_9980/2082382247.py, line 1)",
     "output_type": "error",
     "traceback": [
      "\u001b[1;36m  File \u001b[1;32m\"C:\\Users\\vacla\\AppData\\Local\\Temp/ipykernel_9980/2082382247.py\"\u001b[1;36m, line \u001b[1;32m1\u001b[0m\n\u001b[1;33m    lid_domov=articles[articles['category']=='Zprávy z domova' && articles['source']=='lidovky.cz']\u001b[0m\n\u001b[1;37m                                                                ^\u001b[0m\n\u001b[1;31mSyntaxError\u001b[0m\u001b[1;31m:\u001b[0m invalid syntax\n"
     ]
    }
   ],
   "source": []
  },
  {
   "cell_type": "code",
   "execution_count": 8,
   "metadata": {
    "scrolled": false
   },
   "outputs": [
    {
     "data": {
      "text/plain": [
       "(array([ 300,  301,  302, ..., 5545, 5546, 5547], dtype=int64),)"
      ]
     },
     "execution_count": 8,
     "metadata": {},
     "output_type": "execute_result"
    }
   ],
   "source": [
    "np.where(articles['source']!='lidovky.cz')"
   ]
  },
  {
   "cell_type": "code",
   "execution_count": 34,
   "metadata": {
    "scrolled": true
   },
   "outputs": [
    {
     "data": {
      "text/plain": [
       "'Prodej bytu Arenbergerovi prověřuje policie. Podle Hřiba by to měla řešit Praha 1, až pak magistrát'"
      ]
     },
     "execution_count": 34,
     "metadata": {},
     "output_type": "execute_result"
    }
   ],
   "source": [
    "articles.loc[29,'title']"
   ]
  },
  {
   "cell_type": "code",
   "execution_count": 30,
   "metadata": {
    "scrolled": false
   },
   "outputs": [
    {
     "data": {
      "text/plain": [
       "'Hokejisté Švédska i Kanady se výhrami na mistrovství světa v Rize udrželi ve hře o postup do čtvrtfinále. Každoroční kandidáti na medaile mají po pěti odehraných zápasech šest bodů a jsou momentálně mimo postupující čtveřici. Švédové jsou po výhře nad Velkou Británií 4:1 pátí ve skupině A, Kanada porazila Kazachstán 4:2 a je v béčku šestá.'"
      ]
     },
     "execution_count": 30,
     "metadata": {},
     "output_type": "execute_result"
    }
   ],
   "source": [
    "articles.loc[60,'summary']"
   ]
  },
  {
   "cell_type": "code",
   "execution_count": 41,
   "metadata": {
    "scrolled": true
   },
   "outputs": [
    {
     "data": {
      "text/plain": [
       "'Adam Vojtěch je za necelý rok a půl pandemie koronaviru už pátým ministrem zdravotnictví. Je jeho návrat dobrým rozhodnutím? Poučí se ze svých chyb a dotáhne boj s pandemií covidu-19 do zdárného konce? V pořadu Pro a proti diskutovali šéfredaktor online Zdravotnického deníku Tomáš Cikrt a šéf Lékařského odborového klubu Martin Engel.'"
      ]
     },
     "execution_count": 41,
     "metadata": {},
     "output_type": "execute_result"
    }
   ],
   "source": [
    "articles.loc[300,'summary']"
   ]
  },
  {
   "cell_type": "code",
   "execution_count": null,
   "metadata": {},
   "outputs": [],
   "source": []
  },
  {
   "cell_type": "code",
   "execution_count": 32,
   "metadata": {},
   "outputs": [
    {
     "data": {
      "text/plain": [
       "array([[0.30661118]])"
      ]
     },
     "execution_count": 32,
     "metadata": {},
     "output_type": "execute_result"
    }
   ],
   "source": [
    "cosine_similarity(train_x_vectors[60],train_x_vectors[342])"
   ]
  },
  {
   "cell_type": "markdown",
   "metadata": {},
   "source": [
    "### chose what features u want to use"
   ]
  },
  {
   "cell_type": "code",
   "execution_count": 7,
   "metadata": {},
   "outputs": [],
   "source": [
    "#test\n",
    "articles=articles[['title','summary']]"
   ]
  },
  {
   "cell_type": "markdown",
   "metadata": {},
   "source": [
    "### prepare data, merge rows and create dataset"
   ]
  },
  {
   "cell_type": "code",
   "execution_count": 8,
   "metadata": {
    "scrolled": true
   },
   "outputs": [],
   "source": [
    "ddd=articles\n",
    "#ddd['published']=np.datetime_as_string(ddd['published'])\n",
    "for type in ddd.columns:\n",
    "    ddd[type]=ddd[type].astype(str)"
   ]
  },
  {
   "cell_type": "code",
   "execution_count": 9,
   "metadata": {
    "scrolled": true
   },
   "outputs": [
    {
     "data": {
      "text/html": [
       "<div>\n",
       "<style scoped>\n",
       "    .dataframe tbody tr th:only-of-type {\n",
       "        vertical-align: middle;\n",
       "    }\n",
       "\n",
       "    .dataframe tbody tr th {\n",
       "        vertical-align: top;\n",
       "    }\n",
       "\n",
       "    .dataframe thead th {\n",
       "        text-align: right;\n",
       "    }\n",
       "</style>\n",
       "<table border=\"1\" class=\"dataframe\">\n",
       "  <thead>\n",
       "    <tr style=\"text-align: right;\">\n",
       "      <th></th>\n",
       "      <th>title</th>\n",
       "      <th>summary</th>\n",
       "    </tr>\n",
       "  </thead>\n",
       "  <tbody>\n",
       "    <tr>\n",
       "      <th>0</th>\n",
       "      <td>Pokud chceme pandemii udržet pod kontrolou, je...</td>\n",
       "      <td>Příznivý vývoj epidemie koronaviru v Česku lze...</td>\n",
       "    </tr>\n",
       "    <tr>\n",
       "      <th>1</th>\n",
       "      <td>Hlavní manažer ANO pobíral neoprávněně plný za...</td>\n",
       "      <td>Hlavní manažer hnutí ANO Jan Richter loni pobí...</td>\n",
       "    </tr>\n",
       "    <tr>\n",
       "      <th>2</th>\n",
       "      <td>Vzpomeňme si, co udělaly bary loni v létě, mla...</td>\n",
       "      <td>Po zmírnění protiepidemických opatření, ke kte...</td>\n",
       "    </tr>\n",
       "    <tr>\n",
       "      <th>3</th>\n",
       "      <td>Poslední „Berdychovec“ je za mřížemi. Policie ...</td>\n",
       "      <td>Čeští kriminalisté přivezli z USA Jaromíra Pro...</td>\n",
       "    </tr>\n",
       "    <tr>\n",
       "      <th>4</th>\n",
       "      <td>Mezi Českem a sedmi zeměmi bude po první dávce...</td>\n",
       "      <td>Ze Slovenska, Polska, Německa, Rakouska, Maďar...</td>\n",
       "    </tr>\n",
       "  </tbody>\n",
       "</table>\n",
       "</div>"
      ],
      "text/plain": [
       "                                               title  \\\n",
       "0  Pokud chceme pandemii udržet pod kontrolou, je...   \n",
       "1  Hlavní manažer ANO pobíral neoprávněně plný za...   \n",
       "2  Vzpomeňme si, co udělaly bary loni v létě, mla...   \n",
       "3  Poslední „Berdychovec“ je za mřížemi. Policie ...   \n",
       "4  Mezi Českem a sedmi zeměmi bude po první dávce...   \n",
       "\n",
       "                                             summary  \n",
       "0  Příznivý vývoj epidemie koronaviru v Česku lze...  \n",
       "1  Hlavní manažer hnutí ANO Jan Richter loni pobí...  \n",
       "2  Po zmírnění protiepidemických opatření, ke kte...  \n",
       "3  Čeští kriminalisté přivezli z USA Jaromíra Pro...  \n",
       "4  Ze Slovenska, Polska, Německa, Rakouska, Maďar...  "
      ]
     },
     "execution_count": 9,
     "metadata": {},
     "output_type": "execute_result"
    }
   ],
   "source": [
    "ddd.head()"
   ]
  },
  {
   "cell_type": "markdown",
   "metadata": {},
   "source": [
    "### skip next cell if dont want to use time"
   ]
  },
  {
   "cell_type": "code",
   "execution_count": 10,
   "metadata": {
    "scrolled": false
   },
   "outputs": [
    {
     "ename": "KeyError",
     "evalue": "'published'",
     "output_type": "error",
     "traceback": [
      "\u001b[1;31m---------------------------------------------------------------------------\u001b[0m",
      "\u001b[1;31mKeyError\u001b[0m                                  Traceback (most recent call last)",
      "\u001b[1;32mc:\\users\\vacla\\onedrive\\dokumenty\\github\\01das\\dastest\\lib\\site-packages\\pandas\\core\\indexes\\base.py\u001b[0m in \u001b[0;36mget_loc\u001b[1;34m(self, key, method, tolerance)\u001b[0m\n\u001b[0;32m   3360\u001b[0m             \u001b[1;32mtry\u001b[0m\u001b[1;33m:\u001b[0m\u001b[1;33m\u001b[0m\u001b[1;33m\u001b[0m\u001b[0m\n\u001b[1;32m-> 3361\u001b[1;33m                 \u001b[1;32mreturn\u001b[0m \u001b[0mself\u001b[0m\u001b[1;33m.\u001b[0m\u001b[0m_engine\u001b[0m\u001b[1;33m.\u001b[0m\u001b[0mget_loc\u001b[0m\u001b[1;33m(\u001b[0m\u001b[0mcasted_key\u001b[0m\u001b[1;33m)\u001b[0m\u001b[1;33m\u001b[0m\u001b[1;33m\u001b[0m\u001b[0m\n\u001b[0m\u001b[0;32m   3362\u001b[0m             \u001b[1;32mexcept\u001b[0m \u001b[0mKeyError\u001b[0m \u001b[1;32mas\u001b[0m \u001b[0merr\u001b[0m\u001b[1;33m:\u001b[0m\u001b[1;33m\u001b[0m\u001b[1;33m\u001b[0m\u001b[0m\n",
      "\u001b[1;32mc:\\users\\vacla\\onedrive\\dokumenty\\github\\01das\\dastest\\lib\\site-packages\\pandas\\_libs\\index.pyx\u001b[0m in \u001b[0;36mpandas._libs.index.IndexEngine.get_loc\u001b[1;34m()\u001b[0m\n",
      "\u001b[1;32mc:\\users\\vacla\\onedrive\\dokumenty\\github\\01das\\dastest\\lib\\site-packages\\pandas\\_libs\\index.pyx\u001b[0m in \u001b[0;36mpandas._libs.index.IndexEngine.get_loc\u001b[1;34m()\u001b[0m\n",
      "\u001b[1;32mpandas\\_libs\\hashtable_class_helper.pxi\u001b[0m in \u001b[0;36mpandas._libs.hashtable.PyObjectHashTable.get_item\u001b[1;34m()\u001b[0m\n",
      "\u001b[1;32mpandas\\_libs\\hashtable_class_helper.pxi\u001b[0m in \u001b[0;36mpandas._libs.hashtable.PyObjectHashTable.get_item\u001b[1;34m()\u001b[0m\n",
      "\u001b[1;31mKeyError\u001b[0m: 'published'",
      "\nThe above exception was the direct cause of the following exception:\n",
      "\u001b[1;31mKeyError\u001b[0m                                  Traceback (most recent call last)",
      "\u001b[1;32m~\\AppData\\Local\\Temp/ipykernel_4356/1026842304.py\u001b[0m in \u001b[0;36m<module>\u001b[1;34m\u001b[0m\n\u001b[0;32m      1\u001b[0m \u001b[1;32mfor\u001b[0m \u001b[0mi\u001b[0m \u001b[1;32min\u001b[0m \u001b[0mrange\u001b[0m\u001b[1;33m(\u001b[0m\u001b[0mddd\u001b[0m\u001b[1;33m.\u001b[0m\u001b[0mshape\u001b[0m\u001b[1;33m[\u001b[0m\u001b[1;36m0\u001b[0m\u001b[1;33m]\u001b[0m\u001b[1;33m)\u001b[0m\u001b[1;33m:\u001b[0m\u001b[1;33m\u001b[0m\u001b[1;33m\u001b[0m\u001b[0m\n\u001b[1;32m----> 2\u001b[1;33m     \u001b[0mi1\u001b[0m\u001b[1;33m=\u001b[0m\u001b[0mddd\u001b[0m\u001b[1;33m[\u001b[0m\u001b[1;34m'published'\u001b[0m\u001b[1;33m]\u001b[0m\u001b[1;33m[\u001b[0m\u001b[0mi\u001b[0m\u001b[1;33m]\u001b[0m\u001b[1;33m[\u001b[0m\u001b[1;36m0\u001b[0m\u001b[1;33m:\u001b[0m\u001b[1;36m4\u001b[0m\u001b[1;33m]\u001b[0m\u001b[1;33m\u001b[0m\u001b[1;33m\u001b[0m\u001b[0m\n\u001b[0m\u001b[0;32m      3\u001b[0m     \u001b[0mi2\u001b[0m\u001b[1;33m=\u001b[0m\u001b[0mddd\u001b[0m\u001b[1;33m[\u001b[0m\u001b[1;34m'published'\u001b[0m\u001b[1;33m]\u001b[0m\u001b[1;33m[\u001b[0m\u001b[0mi\u001b[0m\u001b[1;33m]\u001b[0m\u001b[1;33m[\u001b[0m\u001b[1;36m5\u001b[0m\u001b[1;33m:\u001b[0m\u001b[1;36m7\u001b[0m\u001b[1;33m]\u001b[0m\u001b[1;33m\u001b[0m\u001b[1;33m\u001b[0m\u001b[0m\n\u001b[0;32m      4\u001b[0m     \u001b[0mi3\u001b[0m\u001b[1;33m=\u001b[0m\u001b[0mddd\u001b[0m\u001b[1;33m[\u001b[0m\u001b[1;34m'published'\u001b[0m\u001b[1;33m]\u001b[0m\u001b[1;33m[\u001b[0m\u001b[0mi\u001b[0m\u001b[1;33m]\u001b[0m\u001b[1;33m[\u001b[0m\u001b[1;36m8\u001b[0m\u001b[1;33m:\u001b[0m\u001b[1;36m10\u001b[0m\u001b[1;33m]\u001b[0m\u001b[1;33m\u001b[0m\u001b[1;33m\u001b[0m\u001b[0m\n\u001b[0;32m      5\u001b[0m     \u001b[0mi4\u001b[0m\u001b[1;33m=\u001b[0m\u001b[0mddd\u001b[0m\u001b[1;33m[\u001b[0m\u001b[1;34m'published'\u001b[0m\u001b[1;33m]\u001b[0m\u001b[1;33m[\u001b[0m\u001b[0mi\u001b[0m\u001b[1;33m]\u001b[0m\u001b[1;33m[\u001b[0m\u001b[1;36m11\u001b[0m\u001b[1;33m:\u001b[0m\u001b[1;36m13\u001b[0m\u001b[1;33m]\u001b[0m\u001b[1;33m\u001b[0m\u001b[1;33m\u001b[0m\u001b[0m\n",
      "\u001b[1;32mc:\\users\\vacla\\onedrive\\dokumenty\\github\\01das\\dastest\\lib\\site-packages\\pandas\\core\\frame.py\u001b[0m in \u001b[0;36m__getitem__\u001b[1;34m(self, key)\u001b[0m\n\u001b[0;32m   3456\u001b[0m             \u001b[1;32mif\u001b[0m \u001b[0mself\u001b[0m\u001b[1;33m.\u001b[0m\u001b[0mcolumns\u001b[0m\u001b[1;33m.\u001b[0m\u001b[0mnlevels\u001b[0m \u001b[1;33m>\u001b[0m \u001b[1;36m1\u001b[0m\u001b[1;33m:\u001b[0m\u001b[1;33m\u001b[0m\u001b[1;33m\u001b[0m\u001b[0m\n\u001b[0;32m   3457\u001b[0m                 \u001b[1;32mreturn\u001b[0m \u001b[0mself\u001b[0m\u001b[1;33m.\u001b[0m\u001b[0m_getitem_multilevel\u001b[0m\u001b[1;33m(\u001b[0m\u001b[0mkey\u001b[0m\u001b[1;33m)\u001b[0m\u001b[1;33m\u001b[0m\u001b[1;33m\u001b[0m\u001b[0m\n\u001b[1;32m-> 3458\u001b[1;33m             \u001b[0mindexer\u001b[0m \u001b[1;33m=\u001b[0m \u001b[0mself\u001b[0m\u001b[1;33m.\u001b[0m\u001b[0mcolumns\u001b[0m\u001b[1;33m.\u001b[0m\u001b[0mget_loc\u001b[0m\u001b[1;33m(\u001b[0m\u001b[0mkey\u001b[0m\u001b[1;33m)\u001b[0m\u001b[1;33m\u001b[0m\u001b[1;33m\u001b[0m\u001b[0m\n\u001b[0m\u001b[0;32m   3459\u001b[0m             \u001b[1;32mif\u001b[0m \u001b[0mis_integer\u001b[0m\u001b[1;33m(\u001b[0m\u001b[0mindexer\u001b[0m\u001b[1;33m)\u001b[0m\u001b[1;33m:\u001b[0m\u001b[1;33m\u001b[0m\u001b[1;33m\u001b[0m\u001b[0m\n\u001b[0;32m   3460\u001b[0m                 \u001b[0mindexer\u001b[0m \u001b[1;33m=\u001b[0m \u001b[1;33m[\u001b[0m\u001b[0mindexer\u001b[0m\u001b[1;33m]\u001b[0m\u001b[1;33m\u001b[0m\u001b[1;33m\u001b[0m\u001b[0m\n",
      "\u001b[1;32mc:\\users\\vacla\\onedrive\\dokumenty\\github\\01das\\dastest\\lib\\site-packages\\pandas\\core\\indexes\\base.py\u001b[0m in \u001b[0;36mget_loc\u001b[1;34m(self, key, method, tolerance)\u001b[0m\n\u001b[0;32m   3361\u001b[0m                 \u001b[1;32mreturn\u001b[0m \u001b[0mself\u001b[0m\u001b[1;33m.\u001b[0m\u001b[0m_engine\u001b[0m\u001b[1;33m.\u001b[0m\u001b[0mget_loc\u001b[0m\u001b[1;33m(\u001b[0m\u001b[0mcasted_key\u001b[0m\u001b[1;33m)\u001b[0m\u001b[1;33m\u001b[0m\u001b[1;33m\u001b[0m\u001b[0m\n\u001b[0;32m   3362\u001b[0m             \u001b[1;32mexcept\u001b[0m \u001b[0mKeyError\u001b[0m \u001b[1;32mas\u001b[0m \u001b[0merr\u001b[0m\u001b[1;33m:\u001b[0m\u001b[1;33m\u001b[0m\u001b[1;33m\u001b[0m\u001b[0m\n\u001b[1;32m-> 3363\u001b[1;33m                 \u001b[1;32mraise\u001b[0m \u001b[0mKeyError\u001b[0m\u001b[1;33m(\u001b[0m\u001b[0mkey\u001b[0m\u001b[1;33m)\u001b[0m \u001b[1;32mfrom\u001b[0m \u001b[0merr\u001b[0m\u001b[1;33m\u001b[0m\u001b[1;33m\u001b[0m\u001b[0m\n\u001b[0m\u001b[0;32m   3364\u001b[0m \u001b[1;33m\u001b[0m\u001b[0m\n\u001b[0;32m   3365\u001b[0m         \u001b[1;32mif\u001b[0m \u001b[0mis_scalar\u001b[0m\u001b[1;33m(\u001b[0m\u001b[0mkey\u001b[0m\u001b[1;33m)\u001b[0m \u001b[1;32mand\u001b[0m \u001b[0misna\u001b[0m\u001b[1;33m(\u001b[0m\u001b[0mkey\u001b[0m\u001b[1;33m)\u001b[0m \u001b[1;32mand\u001b[0m \u001b[1;32mnot\u001b[0m \u001b[0mself\u001b[0m\u001b[1;33m.\u001b[0m\u001b[0mhasnans\u001b[0m\u001b[1;33m:\u001b[0m\u001b[1;33m\u001b[0m\u001b[1;33m\u001b[0m\u001b[0m\n",
      "\u001b[1;31mKeyError\u001b[0m: 'published'"
     ]
    }
   ],
   "source": [
    "for i in range(ddd.shape[0]):\n",
    "    i1=ddd['published'][i][0:4]\n",
    "    i2=ddd['published'][i][5:7]\n",
    "    i3=ddd['published'][i][8:10]\n",
    "    i4=ddd['published'][i][11:13]\n",
    "    i5=ddd['published'][i][14:16]\n",
    "    ddd['published'][i]=str(i1 + ' '+i2+' ' +i3+' ' +i4+' ' +i5 )\n",
    "    #h=[i1,i2,i3,i4,i5]\n",
    "    #for j in range(len(h)):\n",
    "    #    ch=' '.join(h[i])\n",
    "    #    ddd['published'].append(g)"
   ]
  },
  {
   "cell_type": "code",
   "execution_count": 11,
   "metadata": {},
   "outputs": [],
   "source": [
    "data=[]\n",
    "for i in range(ddd.shape[0]):\n",
    "    g=' '.join(ddd.loc[i])\n",
    "    data.append(g)"
   ]
  },
  {
   "cell_type": "code",
   "execution_count": 12,
   "metadata": {},
   "outputs": [
    {
     "name": "stdout",
     "output_type": "stream",
     "text": [
      "Wall time: 10.6 s\n"
     ]
    }
   ],
   "source": [
    "%%time\n",
    "databaze=[]\n",
    "d=[]\n",
    "for clanek in data:\n",
    "    d=tokeny(clanek)\n",
    "    d=delete_stopwords(d) #change 1\n",
    "    e=[]\n",
    "    for slovo in d:\n",
    "        e.append(lemmatizer(slovo))\n",
    "    #e=delete_stopwords(e)\n",
    "    databaze.append(e)\n",
    "        "
   ]
  },
  {
   "cell_type": "markdown",
   "metadata": {},
   "source": [
    "### to shape of CountVectorizer"
   ]
  },
  {
   "cell_type": "code",
   "execution_count": 13,
   "metadata": {},
   "outputs": [],
   "source": [
    "dataset=[]\n",
    "for index in range(len(databaze)):\n",
    "    store=' '.join(databaze[index])\n",
    "    dataset.append(store)\n"
   ]
  },
  {
   "cell_type": "code",
   "execution_count": 14,
   "metadata": {},
   "outputs": [],
   "source": [
    "from sklearn.feature_extraction.text import CountVectorizer\n",
    "\n",
    "vectorizer = CountVectorizer()\n",
    "train_x_vectors=vectorizer.fit_transform(dataset)"
   ]
  },
  {
   "cell_type": "code",
   "execution_count": 18,
   "metadata": {},
   "outputs": [],
   "source": [
    "from sklearn.metrics.pairwise import cosine_similarity,cosine_distances\n",
    "res=cosine_similarity(train_x_vectors[1],train_x_vectors[0])"
   ]
  },
  {
   "cell_type": "code",
   "execution_count": 23,
   "metadata": {
    "scrolled": true
   },
   "outputs": [
    {
     "ename": "KeyError",
     "evalue": "\"['published', 'source'] not in index\"",
     "output_type": "error",
     "traceback": [
      "\u001b[1;31m---------------------------------------------------------------------------\u001b[0m",
      "\u001b[1;31mKeyError\u001b[0m                                  Traceback (most recent call last)",
      "\u001b[1;32m~\\AppData\\Local\\Temp/ipykernel_9980/3206930966.py\u001b[0m in \u001b[0;36m<module>\u001b[1;34m\u001b[0m\n\u001b[1;32m----> 1\u001b[1;33m \u001b[0marticles\u001b[0m\u001b[1;33m.\u001b[0m\u001b[0mloc\u001b[0m\u001b[1;33m[\u001b[0m\u001b[1;36m0\u001b[0m\u001b[1;33m:\u001b[0m\u001b[1;36m10\u001b[0m\u001b[1;33m,\u001b[0m\u001b[1;33m[\u001b[0m\u001b[1;34m'title'\u001b[0m\u001b[1;33m,\u001b[0m\u001b[1;34m'summary'\u001b[0m\u001b[1;33m,\u001b[0m\u001b[1;34m'published'\u001b[0m\u001b[1;33m,\u001b[0m\u001b[1;34m'source'\u001b[0m\u001b[1;33m]\u001b[0m\u001b[1;33m]\u001b[0m\u001b[1;33m\u001b[0m\u001b[1;33m\u001b[0m\u001b[0m\n\u001b[0m",
      "\u001b[1;32mc:\\users\\vacla\\onedrive\\dokumenty\\github\\01das\\dastest\\lib\\site-packages\\pandas\\core\\indexing.py\u001b[0m in \u001b[0;36m__getitem__\u001b[1;34m(self, key)\u001b[0m\n\u001b[0;32m    923\u001b[0m                 \u001b[1;32mwith\u001b[0m \u001b[0msuppress\u001b[0m\u001b[1;33m(\u001b[0m\u001b[0mKeyError\u001b[0m\u001b[1;33m,\u001b[0m \u001b[0mIndexError\u001b[0m\u001b[1;33m)\u001b[0m\u001b[1;33m:\u001b[0m\u001b[1;33m\u001b[0m\u001b[1;33m\u001b[0m\u001b[0m\n\u001b[0;32m    924\u001b[0m                     \u001b[1;32mreturn\u001b[0m \u001b[0mself\u001b[0m\u001b[1;33m.\u001b[0m\u001b[0mobj\u001b[0m\u001b[1;33m.\u001b[0m\u001b[0m_get_value\u001b[0m\u001b[1;33m(\u001b[0m\u001b[1;33m*\u001b[0m\u001b[0mkey\u001b[0m\u001b[1;33m,\u001b[0m \u001b[0mtakeable\u001b[0m\u001b[1;33m=\u001b[0m\u001b[0mself\u001b[0m\u001b[1;33m.\u001b[0m\u001b[0m_takeable\u001b[0m\u001b[1;33m)\u001b[0m\u001b[1;33m\u001b[0m\u001b[1;33m\u001b[0m\u001b[0m\n\u001b[1;32m--> 925\u001b[1;33m             \u001b[1;32mreturn\u001b[0m \u001b[0mself\u001b[0m\u001b[1;33m.\u001b[0m\u001b[0m_getitem_tuple\u001b[0m\u001b[1;33m(\u001b[0m\u001b[0mkey\u001b[0m\u001b[1;33m)\u001b[0m\u001b[1;33m\u001b[0m\u001b[1;33m\u001b[0m\u001b[0m\n\u001b[0m\u001b[0;32m    926\u001b[0m         \u001b[1;32melse\u001b[0m\u001b[1;33m:\u001b[0m\u001b[1;33m\u001b[0m\u001b[1;33m\u001b[0m\u001b[0m\n\u001b[0;32m    927\u001b[0m             \u001b[1;31m# we by definition only have the 0th axis\u001b[0m\u001b[1;33m\u001b[0m\u001b[1;33m\u001b[0m\u001b[1;33m\u001b[0m\u001b[0m\n",
      "\u001b[1;32mc:\\users\\vacla\\onedrive\\dokumenty\\github\\01das\\dastest\\lib\\site-packages\\pandas\\core\\indexing.py\u001b[0m in \u001b[0;36m_getitem_tuple\u001b[1;34m(self, tup)\u001b[0m\n\u001b[0;32m   1107\u001b[0m             \u001b[1;32mreturn\u001b[0m \u001b[0mself\u001b[0m\u001b[1;33m.\u001b[0m\u001b[0m_multi_take\u001b[0m\u001b[1;33m(\u001b[0m\u001b[0mtup\u001b[0m\u001b[1;33m)\u001b[0m\u001b[1;33m\u001b[0m\u001b[1;33m\u001b[0m\u001b[0m\n\u001b[0;32m   1108\u001b[0m \u001b[1;33m\u001b[0m\u001b[0m\n\u001b[1;32m-> 1109\u001b[1;33m         \u001b[1;32mreturn\u001b[0m \u001b[0mself\u001b[0m\u001b[1;33m.\u001b[0m\u001b[0m_getitem_tuple_same_dim\u001b[0m\u001b[1;33m(\u001b[0m\u001b[0mtup\u001b[0m\u001b[1;33m)\u001b[0m\u001b[1;33m\u001b[0m\u001b[1;33m\u001b[0m\u001b[0m\n\u001b[0m\u001b[0;32m   1110\u001b[0m \u001b[1;33m\u001b[0m\u001b[0m\n\u001b[0;32m   1111\u001b[0m     \u001b[1;32mdef\u001b[0m \u001b[0m_get_label\u001b[0m\u001b[1;33m(\u001b[0m\u001b[0mself\u001b[0m\u001b[1;33m,\u001b[0m \u001b[0mlabel\u001b[0m\u001b[1;33m,\u001b[0m \u001b[0maxis\u001b[0m\u001b[1;33m:\u001b[0m \u001b[0mint\u001b[0m\u001b[1;33m)\u001b[0m\u001b[1;33m:\u001b[0m\u001b[1;33m\u001b[0m\u001b[1;33m\u001b[0m\u001b[0m\n",
      "\u001b[1;32mc:\\users\\vacla\\onedrive\\dokumenty\\github\\01das\\dastest\\lib\\site-packages\\pandas\\core\\indexing.py\u001b[0m in \u001b[0;36m_getitem_tuple_same_dim\u001b[1;34m(self, tup)\u001b[0m\n\u001b[0;32m    804\u001b[0m                 \u001b[1;32mcontinue\u001b[0m\u001b[1;33m\u001b[0m\u001b[1;33m\u001b[0m\u001b[0m\n\u001b[0;32m    805\u001b[0m \u001b[1;33m\u001b[0m\u001b[0m\n\u001b[1;32m--> 806\u001b[1;33m             \u001b[0mretval\u001b[0m \u001b[1;33m=\u001b[0m \u001b[0mgetattr\u001b[0m\u001b[1;33m(\u001b[0m\u001b[0mretval\u001b[0m\u001b[1;33m,\u001b[0m \u001b[0mself\u001b[0m\u001b[1;33m.\u001b[0m\u001b[0mname\u001b[0m\u001b[1;33m)\u001b[0m\u001b[1;33m.\u001b[0m\u001b[0m_getitem_axis\u001b[0m\u001b[1;33m(\u001b[0m\u001b[0mkey\u001b[0m\u001b[1;33m,\u001b[0m \u001b[0maxis\u001b[0m\u001b[1;33m=\u001b[0m\u001b[0mi\u001b[0m\u001b[1;33m)\u001b[0m\u001b[1;33m\u001b[0m\u001b[1;33m\u001b[0m\u001b[0m\n\u001b[0m\u001b[0;32m    807\u001b[0m             \u001b[1;31m# We should never have retval.ndim < self.ndim, as that should\u001b[0m\u001b[1;33m\u001b[0m\u001b[1;33m\u001b[0m\u001b[1;33m\u001b[0m\u001b[0m\n\u001b[0;32m    808\u001b[0m             \u001b[1;31m#  be handled by the _getitem_lowerdim call above.\u001b[0m\u001b[1;33m\u001b[0m\u001b[1;33m\u001b[0m\u001b[1;33m\u001b[0m\u001b[0m\n",
      "\u001b[1;32mc:\\users\\vacla\\onedrive\\dokumenty\\github\\01das\\dastest\\lib\\site-packages\\pandas\\core\\indexing.py\u001b[0m in \u001b[0;36m_getitem_axis\u001b[1;34m(self, key, axis)\u001b[0m\n\u001b[0;32m   1151\u001b[0m                     \u001b[1;32mraise\u001b[0m \u001b[0mValueError\u001b[0m\u001b[1;33m(\u001b[0m\u001b[1;34m\"Cannot index with multidimensional key\"\u001b[0m\u001b[1;33m)\u001b[0m\u001b[1;33m\u001b[0m\u001b[1;33m\u001b[0m\u001b[0m\n\u001b[0;32m   1152\u001b[0m \u001b[1;33m\u001b[0m\u001b[0m\n\u001b[1;32m-> 1153\u001b[1;33m                 \u001b[1;32mreturn\u001b[0m \u001b[0mself\u001b[0m\u001b[1;33m.\u001b[0m\u001b[0m_getitem_iterable\u001b[0m\u001b[1;33m(\u001b[0m\u001b[0mkey\u001b[0m\u001b[1;33m,\u001b[0m \u001b[0maxis\u001b[0m\u001b[1;33m=\u001b[0m\u001b[0maxis\u001b[0m\u001b[1;33m)\u001b[0m\u001b[1;33m\u001b[0m\u001b[1;33m\u001b[0m\u001b[0m\n\u001b[0m\u001b[0;32m   1154\u001b[0m \u001b[1;33m\u001b[0m\u001b[0m\n\u001b[0;32m   1155\u001b[0m             \u001b[1;31m# nested tuple slicing\u001b[0m\u001b[1;33m\u001b[0m\u001b[1;33m\u001b[0m\u001b[1;33m\u001b[0m\u001b[0m\n",
      "\u001b[1;32mc:\\users\\vacla\\onedrive\\dokumenty\\github\\01das\\dastest\\lib\\site-packages\\pandas\\core\\indexing.py\u001b[0m in \u001b[0;36m_getitem_iterable\u001b[1;34m(self, key, axis)\u001b[0m\n\u001b[0;32m   1091\u001b[0m \u001b[1;33m\u001b[0m\u001b[0m\n\u001b[0;32m   1092\u001b[0m         \u001b[1;31m# A collection of keys\u001b[0m\u001b[1;33m\u001b[0m\u001b[1;33m\u001b[0m\u001b[1;33m\u001b[0m\u001b[0m\n\u001b[1;32m-> 1093\u001b[1;33m         \u001b[0mkeyarr\u001b[0m\u001b[1;33m,\u001b[0m \u001b[0mindexer\u001b[0m \u001b[1;33m=\u001b[0m \u001b[0mself\u001b[0m\u001b[1;33m.\u001b[0m\u001b[0m_get_listlike_indexer\u001b[0m\u001b[1;33m(\u001b[0m\u001b[0mkey\u001b[0m\u001b[1;33m,\u001b[0m \u001b[0maxis\u001b[0m\u001b[1;33m)\u001b[0m\u001b[1;33m\u001b[0m\u001b[1;33m\u001b[0m\u001b[0m\n\u001b[0m\u001b[0;32m   1094\u001b[0m         return self.obj._reindex_with_indexers(\n\u001b[0;32m   1095\u001b[0m             \u001b[1;33m{\u001b[0m\u001b[0maxis\u001b[0m\u001b[1;33m:\u001b[0m \u001b[1;33m[\u001b[0m\u001b[0mkeyarr\u001b[0m\u001b[1;33m,\u001b[0m \u001b[0mindexer\u001b[0m\u001b[1;33m]\u001b[0m\u001b[1;33m}\u001b[0m\u001b[1;33m,\u001b[0m \u001b[0mcopy\u001b[0m\u001b[1;33m=\u001b[0m\u001b[1;32mTrue\u001b[0m\u001b[1;33m,\u001b[0m \u001b[0mallow_dups\u001b[0m\u001b[1;33m=\u001b[0m\u001b[1;32mTrue\u001b[0m\u001b[1;33m\u001b[0m\u001b[1;33m\u001b[0m\u001b[0m\n",
      "\u001b[1;32mc:\\users\\vacla\\onedrive\\dokumenty\\github\\01das\\dastest\\lib\\site-packages\\pandas\\core\\indexing.py\u001b[0m in \u001b[0;36m_get_listlike_indexer\u001b[1;34m(self, key, axis)\u001b[0m\n\u001b[0;32m   1312\u001b[0m             \u001b[0mkeyarr\u001b[0m\u001b[1;33m,\u001b[0m \u001b[0mindexer\u001b[0m\u001b[1;33m,\u001b[0m \u001b[0mnew_indexer\u001b[0m \u001b[1;33m=\u001b[0m \u001b[0max\u001b[0m\u001b[1;33m.\u001b[0m\u001b[0m_reindex_non_unique\u001b[0m\u001b[1;33m(\u001b[0m\u001b[0mkeyarr\u001b[0m\u001b[1;33m)\u001b[0m\u001b[1;33m\u001b[0m\u001b[1;33m\u001b[0m\u001b[0m\n\u001b[0;32m   1313\u001b[0m \u001b[1;33m\u001b[0m\u001b[0m\n\u001b[1;32m-> 1314\u001b[1;33m         \u001b[0mself\u001b[0m\u001b[1;33m.\u001b[0m\u001b[0m_validate_read_indexer\u001b[0m\u001b[1;33m(\u001b[0m\u001b[0mkeyarr\u001b[0m\u001b[1;33m,\u001b[0m \u001b[0mindexer\u001b[0m\u001b[1;33m,\u001b[0m \u001b[0maxis\u001b[0m\u001b[1;33m)\u001b[0m\u001b[1;33m\u001b[0m\u001b[1;33m\u001b[0m\u001b[0m\n\u001b[0m\u001b[0;32m   1315\u001b[0m \u001b[1;33m\u001b[0m\u001b[0m\n\u001b[0;32m   1316\u001b[0m         if needs_i8_conversion(ax.dtype) or isinstance(\n",
      "\u001b[1;32mc:\\users\\vacla\\onedrive\\dokumenty\\github\\01das\\dastest\\lib\\site-packages\\pandas\\core\\indexing.py\u001b[0m in \u001b[0;36m_validate_read_indexer\u001b[1;34m(self, key, indexer, axis)\u001b[0m\n\u001b[0;32m   1375\u001b[0m \u001b[1;33m\u001b[0m\u001b[0m\n\u001b[0;32m   1376\u001b[0m             \u001b[0mnot_found\u001b[0m \u001b[1;33m=\u001b[0m \u001b[0mlist\u001b[0m\u001b[1;33m(\u001b[0m\u001b[0mensure_index\u001b[0m\u001b[1;33m(\u001b[0m\u001b[0mkey\u001b[0m\u001b[1;33m)\u001b[0m\u001b[1;33m[\u001b[0m\u001b[0mmissing_mask\u001b[0m\u001b[1;33m.\u001b[0m\u001b[0mnonzero\u001b[0m\u001b[1;33m(\u001b[0m\u001b[1;33m)\u001b[0m\u001b[1;33m[\u001b[0m\u001b[1;36m0\u001b[0m\u001b[1;33m]\u001b[0m\u001b[1;33m]\u001b[0m\u001b[1;33m.\u001b[0m\u001b[0munique\u001b[0m\u001b[1;33m(\u001b[0m\u001b[1;33m)\u001b[0m\u001b[1;33m)\u001b[0m\u001b[1;33m\u001b[0m\u001b[1;33m\u001b[0m\u001b[0m\n\u001b[1;32m-> 1377\u001b[1;33m             \u001b[1;32mraise\u001b[0m \u001b[0mKeyError\u001b[0m\u001b[1;33m(\u001b[0m\u001b[1;34mf\"{not_found} not in index\"\u001b[0m\u001b[1;33m)\u001b[0m\u001b[1;33m\u001b[0m\u001b[1;33m\u001b[0m\u001b[0m\n\u001b[0m\u001b[0;32m   1378\u001b[0m \u001b[1;33m\u001b[0m\u001b[0m\n\u001b[0;32m   1379\u001b[0m \u001b[1;33m\u001b[0m\u001b[0m\n",
      "\u001b[1;31mKeyError\u001b[0m: \"['published', 'source'] not in index\""
     ]
    }
   ],
   "source": [
    "articles.loc[0:10,['title','summary','published','source']]\n"
   ]
  },
  {
   "cell_type": "code",
   "execution_count": 151,
   "metadata": {
    "scrolled": true
   },
   "outputs": [
    {
     "data": {
      "text/plain": [
       "title      Vakcína pro děti nad dvanáct let: Kdy mohou př...\n",
       "summary    Zítra má Evropská léková agentura (EMA) doporu...\n",
       "Name: 446, dtype: object"
      ]
     },
     "execution_count": 151,
     "metadata": {},
     "output_type": "execute_result"
    }
   ],
   "source": [
    "articles.loc[446,['title','summary']]\n"
   ]
  },
  {
   "cell_type": "markdown",
   "metadata": {},
   "source": [
    "## duplicated articles\n",
    "* 1 a 441\n",
    "* 5 a 446\n",
    "* 443,314,307,306,7,10\n",
    "* 3 a 303\n",
    "* 305 a 8\n",
    "* 311 a 17 a 13\n",
    "* 316 a 18\n",
    "* 312 a 19\n",
    "* 308 a 20\n",
    "* sport\n",
    "* 72 a 63\n",
    "* 60 a 342\n",
    "* 65 a 66 a 344 a 349 a 352\n",
    "* 67 a 354\n",
    "* 74 a 69\n",
    "* 81 a 76 a 84\n",
    "* 462 a 83\n",
    "* 86 a 85"
   ]
  },
  {
   "cell_type": "code",
   "execution_count": 140,
   "metadata": {},
   "outputs": [
    {
     "data": {
      "text/plain": [
       "array([[0.54352309]])"
      ]
     },
     "execution_count": 140,
     "metadata": {},
     "output_type": "execute_result"
    }
   ],
   "source": [
    "cosine_similarity(train_x_vectors[1],train_x_vectors[441])"
   ]
  },
  {
   "cell_type": "markdown",
   "metadata": {},
   "source": [
    "0-29 lid domov\n",
    "60-89 lid sport\n",
    "300-319 roz domov\n",
    "340-359 roz sport\n",
    "440-449 n cesko\n",
    "460-469 n sport"
   ]
  },
  {
   "cell_type": "code",
   "execution_count": 184,
   "metadata": {},
   "outputs": [],
   "source": [
    "trainx=np.concatenate((train_x_vectors[60:89].toarray(),train_x_vectors[340:359].toarray(),train_x_vectors[460:469].toarray()),axis=0)"
   ]
  },
  {
   "cell_type": "code",
   "execution_count": 185,
   "metadata": {},
   "outputs": [
    {
     "name": "stdout",
     "output_type": "stream",
     "text": [
      "Wall time: 1.86 s\n"
     ]
    }
   ],
   "source": [
    "%%time\n",
    "cc=np.zeros([trainx.shape[0],trainx.shape[0]])\n",
    "for i in range(trainx.shape[0]):\n",
    "    for j in range(trainx.shape[0]):\n",
    "        a=np.reshape(trainx[i],(1,25618))\n",
    "        b=np.reshape(trainx[j],(1,25618))\n",
    "        cc[i,j]=cosine_similarity(a,b)\n",
    "    cc[i,i]=0\n",
    "        "
   ]
  },
  {
   "cell_type": "code",
   "execution_count": 188,
   "metadata": {
    "scrolled": true
   },
   "outputs": [],
   "source": [
    "artic=np.concatenate((articles[60:89],articles[340:359],articles[460:469]),axis=0)"
   ]
  },
  {
   "cell_type": "code",
   "execution_count": 356,
   "metadata": {
    "scrolled": false
   },
   "outputs": [],
   "source": [
    "k=0.2\n",
    "i=29"
   ]
  },
  {
   "cell_type": "code",
   "execution_count": 357,
   "metadata": {
    "scrolled": false
   },
   "outputs": [
    {
     "data": {
      "text/plain": [
       "array([[0.30772873, 0.32623635, 0.36556308, 0.21011516, 0.33086205,\n",
       "        0.30677372]])"
      ]
     },
     "execution_count": 357,
     "metadata": {},
     "output_type": "execute_result"
    }
   ],
   "source": [
    "cc[np.where(cc[:,i]>k),i]"
   ]
  },
  {
   "cell_type": "code",
   "execution_count": 358,
   "metadata": {},
   "outputs": [
    {
     "data": {
      "text/plain": [
       "array(['Hokejisté Dánska otočili zápas s Běloruskem a zatím jsou čtvrtí, Češi v tabulce klesli',\n",
       "       'https://www.irozhlas.cz/sport/ms-hokej/dansko-belorusko-hokej-mistrovstvi-sveta-online-sledovani-ms-2021_2105281830_mim',\n",
       "       'Hokejisté Dánska se při svém pátém vystoupení na mistrovství světa postavili proti Bělorusku a přestože soupeř ještě po dvou třetinách vedl, Seveřané dokázali v poslední části zápas otočit a nakonec zvítězili 5:2. Dánové se na turnaji posunuli na čtvrté místo neúplné tabulky skupiny A. Český tým klesl na šestou pozici, odehrál ale o utkání méně než Dánové i páté Švédsko.',\n",
       "       Timestamp('2021-05-28 18:30:00'), '[]', 'Sport', nan,\n",
       "       'irozhlas.cz'], dtype=object)"
      ]
     },
     "execution_count": 358,
     "metadata": {},
     "output_type": "execute_result"
    }
   ],
   "source": [
    "artic[i]"
   ]
  },
  {
   "cell_type": "code",
   "execution_count": 359,
   "metadata": {
    "scrolled": true
   },
   "outputs": [
    {
     "data": {
      "text/plain": [
       "array([['SOUHRN: Další trápení favoritů, Švédsko a Kanada však tentokrát vyhrály. Češi sraženi na šesté místo',\n",
       "        'https://www.lidovky.cz/sport/hokej/svedi-porazili-tym-velke-britanie-4-1-kanada-po-vyhre-nad-kazachstanem-pokracuj.A210528_183530_ln-sport-hokej_lihem#utm_source=rss&utm_medium=feed&utm_campaign=ln_sport&utm_content=main',\n",
       "        'Hokejisté Švédska i Kanady se výhrami na mistrovství světa v Rize udrželi ve hře o postup do čtvrtfinále. Každoroční kandidáti na medaile mají po pěti odehraných zápasech šest bodů a jsou momentálně mimo postupující čtveřici. Švédové jsou po výhře nad Velkou Británií 4:1 pátí ve skupině A, Kanada porazila Kazachstán 4:2 a je v béčku šestá.',\n",
       "        Timestamp('2021-05-28 20:35:00'), \"['Sport - Hokej']\", 'Sport',\n",
       "        'Reuters', 'lidovky.cz'],\n",
       "       ['To byl obrat! Češi po dvou třetinách prohrávali 0:2, ale pak Švédům nasázeli čtyři góly',\n",
       "        'https://www.lidovky.cz/sport/hokej/zive-svedsko-cesko-online-reportaz-hokej-mistrovstvi-sveta.A210527_184512_ln-sport-hokej_atv#utm_source=rss&utm_medium=feed&utm_campaign=ln_sport&utm_content=main',\n",
       "        'Čeští hokejisté otočili na mistrovství světa v Rize zápas se Švédskem, zvítězili 4:2 a udrželi se ve hře o postup do čtvrtfinále. Národní tým prohrával po dvou třetinách 0:2, ale čtyřmi góly ve třetí třetině strhl vítězství na svou stranu. V přesilových hrách se trefili Jakub Vrána a Jan Kovář, při hře pět na pět Lukáš Klok a při power play soupeře Jakub Flek.',\n",
       "        Timestamp('2021-05-27 19:22:00'), \"['Sport - Hokej']\", 'Sport',\n",
       "        'ČTK', 'lidovky.cz'],\n",
       "       ['Česko na chvostu skupiny. Senzační výhra Velké Británie odsunula naše hokejisty na poslední místo',\n",
       "        'https://www.lidovky.cz/sport/hokej/ruska-masina-se-oklepala-a-porazila-dansko-3-0-kazachstan-si-vyslapl-na-nemecko.A210526_182157_ln-sport-hokej_lijk#utm_source=rss&utm_medium=feed&utm_campaign=ln_sport&utm_content=main',\n",
       "        'Hokejisté Velké Británie se na mistrovství světa v Lotyšsku dočkali po zisku prvního bodu i výhry, když porazili Bělorusko 4:3. V tabulce skupiny A odsunuli na poslední místo český tým, který však odehrál o jeden zápas méně. Kazachstán porazil v odpoledním utkání překvapivě Německo, Rusko si poradilo s hokejisty Dánska.',\n",
       "        Timestamp('2021-05-26 20:27:00'), \"['Sport - Hokej']\", 'Sport',\n",
       "        'ČTK', 'lidovky.cz'],\n",
       "       ['SOUHRN: Varování od Švédů. Před zápasem s Čechy smetli sedmi góly Švýcarsko',\n",
       "        'https://www.lidovky.cz/sport/hokej/souhrn-varovani-od-svedu-pred-zapasem-s-cechy-smetli-sedmi-goly-svycarsko.A210525_221025_ln-sport-hokej_effe#utm_source=rss&utm_medium=feed&utm_campaign=ln_sport&utm_content=main',\n",
       "        'Hokejisté Švédska deklasovali na mistrovství světa v Rize Švýcarsko 7:0 a připsali si premiérovou výhru na turnaji. Švýcaři naopak poprvé prohráli. Dvěma góly a asistencí se na výhře Seveřanů, kteří budou ve čtvrtek dalším soupeřem českého týmu ve skupině A, podílel debutující útočník Jesper Frödén. Branku a tři asistence zaznamenal obránce Nils Lundkvist. Čisté konto udržel Adam Reideborn.',\n",
       "        Timestamp('2021-05-25 20:10:00'), \"['Sport - Hokej']\", 'Sport',\n",
       "        'Reuters', 'lidovky.cz'],\n",
       "       ['Vykoupení Kloka a Flekova motorka. Češi po obratu se Švédy slaví důležitou výhru',\n",
       "        'https://www.irozhlas.cz/sport/ms-hokej/hokej-mistrovstvi-sveta-ms-riga-cesko-svedsko-klok-kovar-pesan_2105280918_bac',\n",
       "        'Po dvou třetinách málokdo doufal, že česká hokejová reprezentace udrží šanci na postup do čtvrtfinále mistrovství světa. Jenže národním tým důležité utkání proti Švédsku zvládl, když otočil zápas z 0:2 na 4:2.',\n",
       "        Timestamp('2021-05-28 07:18:00'), '[]', 'Sport', nan,\n",
       "        'irozhlas.cz'],\n",
       "       ['Hokejisté otočili na mistrovství světa zápas se Švédskem, po výhře 4:2 zůstávají ve hře o čtvrtfinále',\n",
       "        'https://www.irozhlas.cz/sport/ms-hokej/svedsko-cesko-ms-hokej-online-sledovani-prenos-ms-hokej-2021_2105271818_mim',\n",
       "        'Čeští hokejisté otočili na mistrovství světa v Rize klíčový zápas se Švédskem, zvítězili 4:2 a udrželi se ve hře o postup do čtvrtfinále. Národní tým prohrával po dvou třetinách 0:2, ale čtyřmi góly ve třetí třetině strhl vítězství na svou stranu. V přesilových hrách se trefili Jakub Vrána, Jan Kovář, při hře pět na pět Lukáš Klok a při power play soupeře Jakub Flek.',\n",
       "        Timestamp('2021-05-27 17:18:00'), '[]', 'Sport', nan,\n",
       "        'irozhlas.cz']], dtype=object)"
      ]
     },
     "execution_count": 359,
     "metadata": {},
     "output_type": "execute_result"
    }
   ],
   "source": [
    "artic[np.where(cc[:,i]>k)]"
   ]
  },
  {
   "cell_type": "code",
   "execution_count": 217,
   "metadata": {
    "scrolled": true
   },
   "outputs": [
    {
     "data": {
      "text/plain": [
       "(array([12], dtype=int64),)"
      ]
     },
     "execution_count": 217,
     "metadata": {},
     "output_type": "execute_result"
    }
   ],
   "source": [
    "np.where(cc[:,i]>k)"
   ]
  },
  {
   "cell_type": "code",
   "execution_count": 84,
   "metadata": {},
   "outputs": [
    {
     "data": {
      "text/plain": [
       "array([[0.87148934]])"
      ]
     },
     "execution_count": 84,
     "metadata": {},
     "output_type": "execute_result"
    }
   ],
   "source": [
    "a=np.reshape(trainx[8],(1,25618))\n",
    "b=np.reshape(trainx[34],(1,25618))\n",
    "cosine_similarity(a,b)"
   ]
  },
  {
   "cell_type": "code",
   "execution_count": 343,
   "metadata": {},
   "outputs": [
    {
     "data": {
      "text/plain": [
       "(array([85], dtype=int64),)"
      ]
     },
     "execution_count": 343,
     "metadata": {},
     "output_type": "execute_result"
    }
   ],
   "source": [
    "np.where(articles['title']=='Pešán po první výhře na MS: Volno vítám, chyb a nesystémové práce je hodně. Musíme zase najít chemii')"
   ]
  },
  {
   "cell_type": "code",
   "execution_count": 148,
   "metadata": {},
   "outputs": [
    {
     "ename": "SyntaxError",
     "evalue": "invalid syntax (Temp/ipykernel_4356/3201865111.py, line 1)",
     "output_type": "error",
     "traceback": [
      "\u001b[1;36m  File \u001b[1;32m\"C:\\Users\\vacla\\AppData\\Local\\Temp/ipykernel_4356/3201865111.py\"\u001b[1;36m, line \u001b[1;32m1\u001b[0m\n\u001b[1;33m    308 a\u001b[0m\n\u001b[1;37m        ^\u001b[0m\n\u001b[1;31mSyntaxError\u001b[0m\u001b[1;31m:\u001b[0m invalid syntax\n"
     ]
    }
   ],
   "source": [
    "86 a 85"
   ]
  }
 ],
 "metadata": {
  "kernelspec": {
   "display_name": "Python 3 (ipykernel)",
   "language": "python",
   "name": "python3"
  },
  "language_info": {
   "codemirror_mode": {
    "name": "ipython",
    "version": 3
   },
   "file_extension": ".py",
   "mimetype": "text/x-python",
   "name": "python",
   "nbconvert_exporter": "python",
   "pygments_lexer": "ipython3",
   "version": "3.9.0"
  }
 },
 "nbformat": 4,
 "nbformat_minor": 4
}
