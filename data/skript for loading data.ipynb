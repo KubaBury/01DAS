{
 "cells": [
  {
   "cell_type": "code",
   "execution_count": 1,
   "metadata": {},
   "outputs": [],
   "source": [
    "import pandas as pd"
   ]
  },
  {
   "cell_type": "code",
   "execution_count": 4,
   "metadata": {},
   "outputs": [
    {
     "name": "stdout",
     "output_type": "stream",
     "text": [
      "Collecting xlrd\n",
      "  Downloading xlrd-2.0.1-py2.py3-none-any.whl (96 kB)\n",
      "Installing collected packages: xlrd\n",
      "Successfully installed xlrd-2.0.1Note: you may need to restart the kernel to use updated packages.\n",
      "\n"
     ]
    },
    {
     "name": "stderr",
     "output_type": "stream",
     "text": [
      "WARNING: You are using pip version 20.2.3; however, version 21.3 is available.\n",
      "You should consider upgrading via the 'c:\\users\\vacla\\appdata\\local\\programs\\python\\test\\scripts\\python.exe -m pip install --upgrade pip' command.\n"
     ]
    }
   ],
   "source": [
    "pip install xlrd"
   ]
  },
  {
   "cell_type": "code",
   "execution_count": 16,
   "metadata": {},
   "outputs": [],
   "source": [
    "df=pd.ExcelFile('C:/Users/vacla/OneDrive/Dokumenty/Audiozprávy/article_archive_cleared.xls')"
   ]
  },
  {
   "cell_type": "code",
   "execution_count": 13,
   "metadata": {},
   "outputs": [
    {
     "data": {
      "text/html": [
       "<div>\n",
       "<style scoped>\n",
       "    .dataframe tbody tr th:only-of-type {\n",
       "        vertical-align: middle;\n",
       "    }\n",
       "\n",
       "    .dataframe tbody tr th {\n",
       "        vertical-align: top;\n",
       "    }\n",
       "\n",
       "    .dataframe thead th {\n",
       "        text-align: right;\n",
       "    }\n",
       "</style>\n",
       "<table border=\"1\" class=\"dataframe\">\n",
       "  <thead>\n",
       "    <tr style=\"text-align: right;\">\n",
       "      <th></th>\n",
       "      <th>title</th>\n",
       "      <th>link</th>\n",
       "      <th>summary</th>\n",
       "      <th>published</th>\n",
       "      <th>tags</th>\n",
       "      <th>category</th>\n",
       "      <th>credit</th>\n",
       "      <th>source</th>\n",
       "    </tr>\n",
       "  </thead>\n",
       "  <tbody>\n",
       "    <tr>\n",
       "      <th>0</th>\n",
       "      <td>Pokud chceme pandemii udržet pod kontrolou, je...</td>\n",
       "      <td>https://www.lidovky.cz/domov/pokud-chceme-pand...</td>\n",
       "      <td>Příznivý vývoj epidemie koronaviru v Česku lze...</td>\n",
       "      <td>2021-05-28 20:20:00</td>\n",
       "      <td>['Zprávy - Domov']</td>\n",
       "      <td>Zprávy z domova</td>\n",
       "      <td>ČTK</td>\n",
       "      <td>lidovky.cz</td>\n",
       "    </tr>\n",
       "    <tr>\n",
       "      <th>1</th>\n",
       "      <td>Hlavní manažer ANO pobíral neoprávněně plný za...</td>\n",
       "      <td>https://www.lidovky.cz/domov/hlavni-manazer-an...</td>\n",
       "      <td>Hlavní manažer hnutí ANO Jan Richter loni pobí...</td>\n",
       "      <td>2021-05-28 18:53:00</td>\n",
       "      <td>['Zprávy - Domov']</td>\n",
       "      <td>Zprávy z domova</td>\n",
       "      <td>MAFRA</td>\n",
       "      <td>lidovky.cz</td>\n",
       "    </tr>\n",
       "    <tr>\n",
       "      <th>2</th>\n",
       "      <td>Vzpomeňme si, co udělaly bary loni v létě, mla...</td>\n",
       "      <td>https://www.lidovky.cz/domov/prilisne-rozvolne...</td>\n",
       "      <td>Po zmírnění protiepidemických opatření, ke kte...</td>\n",
       "      <td>2021-05-28 18:03:00</td>\n",
       "      <td>['Zprávy - Domov']</td>\n",
       "      <td>Zprávy z domova</td>\n",
       "      <td>Petr Lundák MAFRA</td>\n",
       "      <td>lidovky.cz</td>\n",
       "    </tr>\n",
       "    <tr>\n",
       "      <th>3</th>\n",
       "      <td>Poslední „Berdychovec“ je za mřížemi. Policie ...</td>\n",
       "      <td>https://www.lidovky.cz/domov/policie-privezla-...</td>\n",
       "      <td>Čeští kriminalisté přivezli z USA Jaromíra Pro...</td>\n",
       "      <td>2021-05-28 18:03:00</td>\n",
       "      <td>['Zprávy - Domov']</td>\n",
       "      <td>Zprávy z domova</td>\n",
       "      <td>Policie ČR</td>\n",
       "      <td>lidovky.cz</td>\n",
       "    </tr>\n",
       "    <tr>\n",
       "      <th>4</th>\n",
       "      <td>Mezi Českem a sedmi zeměmi bude po první dávce...</td>\n",
       "      <td>https://www.lidovky.cz/domov/mezi-ceskem-a-sed...</td>\n",
       "      <td>Ze Slovenska, Polska, Německa, Rakouska, Maďar...</td>\n",
       "      <td>2021-05-28 18:01:00</td>\n",
       "      <td>['Zprávy - Domov']</td>\n",
       "      <td>Zprávy z domova</td>\n",
       "      <td>ČTK</td>\n",
       "      <td>lidovky.cz</td>\n",
       "    </tr>\n",
       "  </tbody>\n",
       "</table>\n",
       "</div>"
      ],
      "text/plain": [
       "                                               title  \\\n",
       "0  Pokud chceme pandemii udržet pod kontrolou, je...   \n",
       "1  Hlavní manažer ANO pobíral neoprávněně plný za...   \n",
       "2  Vzpomeňme si, co udělaly bary loni v létě, mla...   \n",
       "3  Poslední „Berdychovec“ je za mřížemi. Policie ...   \n",
       "4  Mezi Českem a sedmi zeměmi bude po první dávce...   \n",
       "\n",
       "                                                link  \\\n",
       "0  https://www.lidovky.cz/domov/pokud-chceme-pand...   \n",
       "1  https://www.lidovky.cz/domov/hlavni-manazer-an...   \n",
       "2  https://www.lidovky.cz/domov/prilisne-rozvolne...   \n",
       "3  https://www.lidovky.cz/domov/policie-privezla-...   \n",
       "4  https://www.lidovky.cz/domov/mezi-ceskem-a-sed...   \n",
       "\n",
       "                                             summary           published  \\\n",
       "0  Příznivý vývoj epidemie koronaviru v Česku lze... 2021-05-28 20:20:00   \n",
       "1  Hlavní manažer hnutí ANO Jan Richter loni pobí... 2021-05-28 18:53:00   \n",
       "2  Po zmírnění protiepidemických opatření, ke kte... 2021-05-28 18:03:00   \n",
       "3  Čeští kriminalisté přivezli z USA Jaromíra Pro... 2021-05-28 18:03:00   \n",
       "4  Ze Slovenska, Polska, Německa, Rakouska, Maďar... 2021-05-28 18:01:00   \n",
       "\n",
       "                 tags         category             credit      source  \n",
       "0  ['Zprávy - Domov']  Zprávy z domova                ČTK  lidovky.cz  \n",
       "1  ['Zprávy - Domov']  Zprávy z domova              MAFRA  lidovky.cz  \n",
       "2  ['Zprávy - Domov']  Zprávy z domova  Petr Lundák MAFRA  lidovky.cz  \n",
       "3  ['Zprávy - Domov']  Zprávy z domova         Policie ČR  lidovky.cz  \n",
       "4  ['Zprávy - Domov']  Zprávy z domova                ČTK  lidovky.cz  "
      ]
     },
     "execution_count": 13,
     "metadata": {},
     "output_type": "execute_result"
    }
   ],
   "source": [
    "articles=df.parse('article_archive')\n",
    "articles.head()"
   ]
  },
  {
   "cell_type": "code",
   "execution_count": 19,
   "metadata": {},
   "outputs": [
    {
     "data": {
      "text/plain": [
       "count     5548\n",
       "unique     409\n",
       "top         []\n",
       "freq      2556\n",
       "Name: tags, dtype: object"
      ]
     },
     "execution_count": 19,
     "metadata": {},
     "output_type": "execute_result"
    }
   ],
   "source": [
    "articles['tags'].describe()"
   ]
  },
  {
   "cell_type": "code",
   "execution_count": null,
   "metadata": {},
   "outputs": [],
   "source": []
  }
 ],
 "metadata": {
  "kernelspec": {
   "display_name": "Python 3",
   "language": "python",
   "name": "python3"
  },
  "language_info": {
   "codemirror_mode": {
    "name": "ipython",
    "version": 3
   },
   "file_extension": ".py",
   "mimetype": "text/x-python",
   "name": "python",
   "nbconvert_exporter": "python",
   "pygments_lexer": "ipython3",
   "version": "3.9.0"
  }
 },
 "nbformat": 4,
 "nbformat_minor": 4
}
